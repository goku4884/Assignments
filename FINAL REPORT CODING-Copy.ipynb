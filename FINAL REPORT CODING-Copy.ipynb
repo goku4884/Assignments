{
 "cells": [
  {
   "cell_type": "code",
   "execution_count": 1,
   "metadata": {},
   "outputs": [],
   "source": [
    "import numpy as np\n",
    "import pandas as pd\n",
    "import matplotlib.pyplot as plt\n",
    "import seaborn as sns\n",
    "from warnings import filterwarnings\n",
    "filterwarnings('ignore')\n",
    "from scipy.stats import shapiro\n",
    "pd.options.display.max_columns= None\n",
    "pd.options.display.max_rows= None\n",
    "\n",
    "#to surpress the notation'e'\n",
    "pd.options.display.float_format='{:.6f}'.format\n",
    "\n",
    "from sklearn.model_selection import train_test_split\n",
    "import statsmodels\n",
    "import statsmodels.api as sm\n",
    "import statsmodels.stats.api as sms\n",
    "import statsmodels.formula.api as smf\n",
    "from statsmodels.stats.outliers_influence import variance_inflation_factor as VIF\n",
    "from statsmodels.stats.stattools import durbin_watson\n",
    "import scipy.stats as stats\n",
    "from sklearn.linear_model import LinearRegression\n",
    "from sklearn.model_selection import train_test_split\n",
    "from mlxtend.feature_selection import SequentialFeatureSelector as sfs\n",
    "from sklearn.preprocessing import StandardScaler\n",
    "from sklearn.metrics import mean_squared_error\n",
    "from sklearn.linear_model import Lasso,Ridge,ElasticNet,SGDRegressor\n",
    "from sklearn.model_selection import train_test_split\n",
    "from sklearn.linear_model import LinearRegression\n",
    "from sklearn.metrics import r2_score , mean_squared_error\n",
    "from sklearn.model_selection import GridSearchCV\n",
    "from sklearn.model_selection import RandomizedSearchCV\n",
    "from sklearn.model_selection import cross_val_score"
   ]
  },
  {
   "cell_type": "markdown",
   "metadata": {},
   "source": [
    "# CHENNAI"
   ]
  },
  {
   "cell_type": "markdown",
   "metadata": {},
   "source": [
    "## BASIC MODEL BUILDING"
   ]
  },
  {
   "cell_type": "code",
   "execution_count": 180,
   "metadata": {},
   "outputs": [],
   "source": [
    "df_c = pd.read_csv('Chennai.csv')"
   ]
  },
  {
   "cell_type": "code",
   "execution_count": 181,
   "metadata": {},
   "outputs": [],
   "source": [
    "df_c = df_c.replace(9,np.nan)"
   ]
  },
  {
   "cell_type": "code",
   "execution_count": 182,
   "metadata": {},
   "outputs": [
    {
     "data": {
      "text/plain": [
       "(5014, 40)"
      ]
     },
     "execution_count": 182,
     "metadata": {},
     "output_type": "execute_result"
    }
   ],
   "source": [
    "df_c.shape"
   ]
  },
  {
   "cell_type": "code",
   "execution_count": 183,
   "metadata": {},
   "outputs": [],
   "source": [
    "df_c = df_c.dropna(axis=0)"
   ]
  },
  {
   "cell_type": "code",
   "execution_count": 184,
   "metadata": {},
   "outputs": [],
   "source": [
    "df_num = df_c.select_dtypes(include=np.number)"
   ]
  },
  {
   "cell_type": "code",
   "execution_count": 185,
   "metadata": {},
   "outputs": [],
   "source": [
    "vif = pd.DataFrame()"
   ]
  },
  {
   "cell_type": "code",
   "execution_count": 186,
   "metadata": {
    "scrolled": true
   },
   "outputs": [
    {
     "data": {
      "text/html": [
       "<div>\n",
       "<style scoped>\n",
       "    .dataframe tbody tr th:only-of-type {\n",
       "        vertical-align: middle;\n",
       "    }\n",
       "\n",
       "    .dataframe tbody tr th {\n",
       "        vertical-align: top;\n",
       "    }\n",
       "\n",
       "    .dataframe thead th {\n",
       "        text-align: right;\n",
       "    }\n",
       "</style>\n",
       "<table border=\"1\" class=\"dataframe\">\n",
       "  <thead>\n",
       "    <tr style=\"text-align: right;\">\n",
       "      <th></th>\n",
       "      <th>VIF</th>\n",
       "      <th>Features</th>\n",
       "    </tr>\n",
       "  </thead>\n",
       "  <tbody>\n",
       "    <tr>\n",
       "      <th>1</th>\n",
       "      <td>25.278593</td>\n",
       "      <td>Area</td>\n",
       "    </tr>\n",
       "    <tr>\n",
       "      <th>2</th>\n",
       "      <td>15.938799</td>\n",
       "      <td>No. of Bedrooms</td>\n",
       "    </tr>\n",
       "    <tr>\n",
       "      <th>35</th>\n",
       "      <td>14.361889</td>\n",
       "      <td>DiningTable</td>\n",
       "    </tr>\n",
       "    <tr>\n",
       "      <th>5</th>\n",
       "      <td>10.965466</td>\n",
       "      <td>Gymnasium</td>\n",
       "    </tr>\n",
       "    <tr>\n",
       "      <th>38</th>\n",
       "      <td>10.247442</td>\n",
       "      <td>Refrigerator</td>\n",
       "    </tr>\n",
       "    <tr>\n",
       "      <th>28</th>\n",
       "      <td>7.467229</td>\n",
       "      <td>Children'splayarea</td>\n",
       "    </tr>\n",
       "    <tr>\n",
       "      <th>34</th>\n",
       "      <td>6.343860</td>\n",
       "      <td>TV</td>\n",
       "    </tr>\n",
       "    <tr>\n",
       "      <th>15</th>\n",
       "      <td>6.217481</td>\n",
       "      <td>ClubHouse</td>\n",
       "    </tr>\n",
       "    <tr>\n",
       "      <th>6</th>\n",
       "      <td>6.103066</td>\n",
       "      <td>SwimmingPool</td>\n",
       "    </tr>\n",
       "    <tr>\n",
       "      <th>8</th>\n",
       "      <td>5.627480</td>\n",
       "      <td>JoggingTrack</td>\n",
       "    </tr>\n",
       "    <tr>\n",
       "      <th>23</th>\n",
       "      <td>5.320339</td>\n",
       "      <td>Hospital</td>\n",
       "    </tr>\n",
       "    <tr>\n",
       "      <th>18</th>\n",
       "      <td>5.087396</td>\n",
       "      <td>PowerBackup</td>\n",
       "    </tr>\n",
       "    <tr>\n",
       "      <th>17</th>\n",
       "      <td>4.955534</td>\n",
       "      <td>24X7Security</td>\n",
       "    </tr>\n",
       "    <tr>\n",
       "      <th>0</th>\n",
       "      <td>4.588478</td>\n",
       "      <td>Price</td>\n",
       "    </tr>\n",
       "    <tr>\n",
       "      <th>36</th>\n",
       "      <td>4.469361</td>\n",
       "      <td>Sofa</td>\n",
       "    </tr>\n",
       "    <tr>\n",
       "      <th>10</th>\n",
       "      <td>4.310272</td>\n",
       "      <td>IndoorGames</td>\n",
       "    </tr>\n",
       "    <tr>\n",
       "      <th>11</th>\n",
       "      <td>4.116874</td>\n",
       "      <td>ShoppingMall</td>\n",
       "    </tr>\n",
       "    <tr>\n",
       "      <th>29</th>\n",
       "      <td>3.980239</td>\n",
       "      <td>LiftAvailable</td>\n",
       "    </tr>\n",
       "    <tr>\n",
       "      <th>16</th>\n",
       "      <td>3.956512</td>\n",
       "      <td>School</td>\n",
       "    </tr>\n",
       "    <tr>\n",
       "      <th>9</th>\n",
       "      <td>3.944310</td>\n",
       "      <td>RainWaterHarvesting</td>\n",
       "    </tr>\n",
       "    <tr>\n",
       "      <th>7</th>\n",
       "      <td>3.943645</td>\n",
       "      <td>LandscapedGardens</td>\n",
       "    </tr>\n",
       "    <tr>\n",
       "      <th>19</th>\n",
       "      <td>3.564838</td>\n",
       "      <td>CarParking</td>\n",
       "    </tr>\n",
       "    <tr>\n",
       "      <th>12</th>\n",
       "      <td>3.560078</td>\n",
       "      <td>Intercom</td>\n",
       "    </tr>\n",
       "    <tr>\n",
       "      <th>24</th>\n",
       "      <td>3.069278</td>\n",
       "      <td>WashingMachine</td>\n",
       "    </tr>\n",
       "    <tr>\n",
       "      <th>14</th>\n",
       "      <td>2.972016</td>\n",
       "      <td>ATM</td>\n",
       "    </tr>\n",
       "    <tr>\n",
       "      <th>32</th>\n",
       "      <td>2.829434</td>\n",
       "      <td>Microwave</td>\n",
       "    </tr>\n",
       "    <tr>\n",
       "      <th>22</th>\n",
       "      <td>2.796951</td>\n",
       "      <td>MultipurposeRoom</td>\n",
       "    </tr>\n",
       "    <tr>\n",
       "      <th>13</th>\n",
       "      <td>2.768430</td>\n",
       "      <td>SportsFacility</td>\n",
       "    </tr>\n",
       "    <tr>\n",
       "      <th>20</th>\n",
       "      <td>2.330066</td>\n",
       "      <td>StaffQuarter</td>\n",
       "    </tr>\n",
       "    <tr>\n",
       "      <th>31</th>\n",
       "      <td>2.260410</td>\n",
       "      <td>VaastuCompliant</td>\n",
       "    </tr>\n",
       "    <tr>\n",
       "      <th>21</th>\n",
       "      <td>2.031694</td>\n",
       "      <td>Cafeteria</td>\n",
       "    </tr>\n",
       "    <tr>\n",
       "      <th>30</th>\n",
       "      <td>1.759081</td>\n",
       "      <td>BED</td>\n",
       "    </tr>\n",
       "    <tr>\n",
       "      <th>26</th>\n",
       "      <td>1.564277</td>\n",
       "      <td>AC</td>\n",
       "    </tr>\n",
       "    <tr>\n",
       "      <th>25</th>\n",
       "      <td>1.547874</td>\n",
       "      <td>Gasconnection</td>\n",
       "    </tr>\n",
       "    <tr>\n",
       "      <th>3</th>\n",
       "      <td>1.355311</td>\n",
       "      <td>Resale</td>\n",
       "    </tr>\n",
       "    <tr>\n",
       "      <th>4</th>\n",
       "      <td>1.235941</td>\n",
       "      <td>MaintenanceStaff</td>\n",
       "    </tr>\n",
       "    <tr>\n",
       "      <th>27</th>\n",
       "      <td>NaN</td>\n",
       "      <td>Wifi</td>\n",
       "    </tr>\n",
       "    <tr>\n",
       "      <th>33</th>\n",
       "      <td>NaN</td>\n",
       "      <td>GolfCourse</td>\n",
       "    </tr>\n",
       "    <tr>\n",
       "      <th>37</th>\n",
       "      <td>NaN</td>\n",
       "      <td>Wardrobe</td>\n",
       "    </tr>\n",
       "  </tbody>\n",
       "</table>\n",
       "</div>"
      ],
      "text/plain": [
       "         VIF             Features\n",
       "1  25.278593                 Area\n",
       "2  15.938799      No. of Bedrooms\n",
       "35 14.361889          DiningTable\n",
       "5  10.965466            Gymnasium\n",
       "38 10.247442         Refrigerator\n",
       "28  7.467229   Children'splayarea\n",
       "34  6.343860                   TV\n",
       "15  6.217481            ClubHouse\n",
       "6   6.103066         SwimmingPool\n",
       "8   5.627480         JoggingTrack\n",
       "23  5.320339             Hospital\n",
       "18  5.087396          PowerBackup\n",
       "17  4.955534         24X7Security\n",
       "0   4.588478                Price\n",
       "36  4.469361                 Sofa\n",
       "10  4.310272          IndoorGames\n",
       "11  4.116874         ShoppingMall\n",
       "29  3.980239        LiftAvailable\n",
       "16  3.956512               School\n",
       "9   3.944310  RainWaterHarvesting\n",
       "7   3.943645    LandscapedGardens\n",
       "19  3.564838           CarParking\n",
       "12  3.560078             Intercom\n",
       "24  3.069278       WashingMachine\n",
       "14  2.972016                  ATM\n",
       "32  2.829434            Microwave\n",
       "22  2.796951     MultipurposeRoom\n",
       "13  2.768430       SportsFacility\n",
       "20  2.330066         StaffQuarter\n",
       "31  2.260410      VaastuCompliant\n",
       "21  2.031694            Cafeteria\n",
       "30  1.759081                  BED\n",
       "26  1.564277                   AC\n",
       "25  1.547874        Gasconnection\n",
       "3   1.355311               Resale\n",
       "4   1.235941     MaintenanceStaff\n",
       "27       NaN                 Wifi\n",
       "33       NaN           GolfCourse\n",
       "37       NaN             Wardrobe"
      ]
     },
     "execution_count": 186,
     "metadata": {},
     "output_type": "execute_result"
    }
   ],
   "source": [
    "vif['VIF'] = [VIF(df_num.values,i) for i in range(df_num.shape[1])]\n",
    "vif['Features'] = df_num.columns\n",
    "vif.sort_values(['VIF'],ascending=False)"
   ]
  },
  {
   "cell_type": "markdown",
   "metadata": {},
   "source": [
    "## Feature Engineering"
   ]
  },
  {
   "cell_type": "markdown",
   "metadata": {},
   "source": [
    "### Feature Selection"
   ]
  },
  {
   "cell_type": "code",
   "execution_count": 187,
   "metadata": {},
   "outputs": [],
   "source": [
    "from sklearn.model_selection import train_test_split"
   ]
  },
  {
   "cell_type": "code",
   "execution_count": 188,
   "metadata": {},
   "outputs": [],
   "source": [
    "df_c.set_index('Location', inplace=True)"
   ]
  },
  {
   "cell_type": "code",
   "execution_count": 189,
   "metadata": {},
   "outputs": [],
   "source": [
    "ss = StandardScaler()"
   ]
  },
  {
   "cell_type": "code",
   "execution_count": 190,
   "metadata": {},
   "outputs": [],
   "source": [
    "df_c['Area']=ss.fit_transform(np.array(df_c['Area']).reshape(-1,1))"
   ]
  },
  {
   "cell_type": "code",
   "execution_count": 191,
   "metadata": {},
   "outputs": [],
   "source": [
    "df_c['Price']=ss.fit_transform(np.array(df_c['Price']).reshape(-1,1))"
   ]
  },
  {
   "cell_type": "code",
   "execution_count": 192,
   "metadata": {},
   "outputs": [],
   "source": [
    "x = df_c.drop('Price',1)\n",
    "y = df_c['Price']"
   ]
  },
  {
   "cell_type": "code",
   "execution_count": 193,
   "metadata": {},
   "outputs": [],
   "source": [
    "x_train,x_test,y_train,y_test = train_test_split(x,y,test_size=0.3,random_state=100)"
   ]
  },
  {
   "cell_type": "code",
   "execution_count": 194,
   "metadata": {},
   "outputs": [],
   "source": [
    "lr = LinearRegression()"
   ]
  },
  {
   "cell_type": "code",
   "execution_count": 195,
   "metadata": {},
   "outputs": [],
   "source": [
    "from mlxtend.feature_selection import SequentialFeatureSelector as sfs"
   ]
  },
  {
   "cell_type": "code",
   "execution_count": 196,
   "metadata": {},
   "outputs": [],
   "source": [
    "bwd = sfs(estimator = lr,k_features='best',forward=False,cv=5,scoring='r2')"
   ]
  },
  {
   "cell_type": "code",
   "execution_count": 197,
   "metadata": {},
   "outputs": [],
   "source": [
    "bwd_mod = bwd.fit(x_train,y_train)"
   ]
  },
  {
   "cell_type": "code",
   "execution_count": 198,
   "metadata": {},
   "outputs": [
    {
     "data": {
      "text/plain": [
       "['Area',\n",
       " 'No. of Bedrooms',\n",
       " 'LandscapedGardens',\n",
       " 'JoggingTrack',\n",
       " 'IndoorGames',\n",
       " 'ShoppingMall',\n",
       " 'ClubHouse',\n",
       " 'School',\n",
       " 'CarParking',\n",
       " 'StaffQuarter',\n",
       " 'Cafeteria',\n",
       " 'MultipurposeRoom',\n",
       " 'AC',\n",
       " 'Wifi',\n",
       " 'BED',\n",
       " 'Microwave',\n",
       " 'GolfCourse',\n",
       " 'Sofa']"
      ]
     },
     "execution_count": 198,
     "metadata": {},
     "output_type": "execute_result"
    }
   ],
   "source": [
    "bwd_names = bwd_mod.k_feature_names_\n",
    "bwd_feat = list(bwd_names)\n",
    "bwd_feat"
   ]
  },
  {
   "cell_type": "markdown",
   "metadata": {},
   "source": [
    "# Assumptions"
   ]
  },
  {
   "cell_type": "markdown",
   "metadata": {},
   "source": [
    "### Regression"
   ]
  },
  {
   "cell_type": "code",
   "execution_count": 199,
   "metadata": {},
   "outputs": [],
   "source": [
    "x = df_c[['Area',\n",
    " 'No. of Bedrooms',\n",
    " 'LandscapedGardens',\n",
    " 'JoggingTrack',\n",
    " 'IndoorGames',\n",
    " 'ShoppingMall',\n",
    " 'ClubHouse',\n",
    " 'School',\n",
    " 'CarParking',\n",
    " 'StaffQuarter',\n",
    " 'Cafeteria',\n",
    " 'MultipurposeRoom',\n",
    " 'AC',\n",
    " 'Wifi',\n",
    " 'BED',\n",
    " 'Microwave',\n",
    " 'GolfCourse',\n",
    " 'Sofa']]\n",
    "y = df_c['Price']"
   ]
  },
  {
   "cell_type": "code",
   "execution_count": 200,
   "metadata": {},
   "outputs": [
    {
     "data": {
      "text/html": [
       "<table class=\"simpletable\">\n",
       "<caption>OLS Regression Results</caption>\n",
       "<tr>\n",
       "  <th>Dep. Variable:</th>          <td>Price</td>      <th>  R-squared:         </th> <td>   0.648</td>\n",
       "</tr>\n",
       "<tr>\n",
       "  <th>Model:</th>                   <td>OLS</td>       <th>  Adj. R-squared:    </th> <td>   0.646</td>\n",
       "</tr>\n",
       "<tr>\n",
       "  <th>Method:</th>             <td>Least Squares</td>  <th>  F-statistic:       </th> <td>   255.0</td>\n",
       "</tr>\n",
       "<tr>\n",
       "  <th>Date:</th>             <td>Thu, 09 Sep 2021</td> <th>  Prob (F-statistic):</th>  <td>  0.00</td> \n",
       "</tr>\n",
       "<tr>\n",
       "  <th>Time:</th>                 <td>18:57:41</td>     <th>  Log-Likelihood:    </th> <td> -2002.5</td>\n",
       "</tr>\n",
       "<tr>\n",
       "  <th>No. Observations:</th>      <td>  2233</td>      <th>  AIC:               </th> <td>   4039.</td>\n",
       "</tr>\n",
       "<tr>\n",
       "  <th>Df Residuals:</th>          <td>  2216</td>      <th>  BIC:               </th> <td>   4136.</td>\n",
       "</tr>\n",
       "<tr>\n",
       "  <th>Df Model:</th>              <td>    16</td>      <th>                     </th>     <td> </td>   \n",
       "</tr>\n",
       "<tr>\n",
       "  <th>Covariance Type:</th>      <td>nonrobust</td>    <th>                     </th>     <td> </td>   \n",
       "</tr>\n",
       "</table>\n",
       "<table class=\"simpletable\">\n",
       "<tr>\n",
       "          <td></td>             <th>coef</th>     <th>std err</th>      <th>t</th>      <th>P>|t|</th>  <th>[0.025</th>    <th>0.975]</th>  \n",
       "</tr>\n",
       "<tr>\n",
       "  <th>const</th>             <td>    0.5533</td> <td>    0.069</td> <td>    8.029</td> <td> 0.000</td> <td>    0.418</td> <td>    0.688</td>\n",
       "</tr>\n",
       "<tr>\n",
       "  <th>Area</th>              <td>    0.9073</td> <td>    0.020</td> <td>   44.664</td> <td> 0.000</td> <td>    0.867</td> <td>    0.947</td>\n",
       "</tr>\n",
       "<tr>\n",
       "  <th>No. of Bedrooms</th>   <td>   -0.2110</td> <td>    0.029</td> <td>   -7.371</td> <td> 0.000</td> <td>   -0.267</td> <td>   -0.155</td>\n",
       "</tr>\n",
       "<tr>\n",
       "  <th>LandscapedGardens</th> <td>    0.3222</td> <td>    0.044</td> <td>    7.255</td> <td> 0.000</td> <td>    0.235</td> <td>    0.409</td>\n",
       "</tr>\n",
       "<tr>\n",
       "  <th>JoggingTrack</th>      <td>   -0.2088</td> <td>    0.046</td> <td>   -4.508</td> <td> 0.000</td> <td>   -0.300</td> <td>   -0.118</td>\n",
       "</tr>\n",
       "<tr>\n",
       "  <th>IndoorGames</th>       <td>   -0.1468</td> <td>    0.042</td> <td>   -3.528</td> <td> 0.000</td> <td>   -0.228</td> <td>   -0.065</td>\n",
       "</tr>\n",
       "<tr>\n",
       "  <th>ShoppingMall</th>      <td>   -0.1643</td> <td>    0.097</td> <td>   -1.691</td> <td> 0.091</td> <td>   -0.355</td> <td>    0.026</td>\n",
       "</tr>\n",
       "<tr>\n",
       "  <th>ClubHouse</th>         <td>   -0.0604</td> <td>    0.036</td> <td>   -1.687</td> <td> 0.092</td> <td>   -0.131</td> <td>    0.010</td>\n",
       "</tr>\n",
       "<tr>\n",
       "  <th>School</th>            <td>   -0.2531</td> <td>    0.077</td> <td>   -3.299</td> <td> 0.001</td> <td>   -0.404</td> <td>   -0.103</td>\n",
       "</tr>\n",
       "<tr>\n",
       "  <th>CarParking</th>        <td>    0.1582</td> <td>    0.040</td> <td>    3.976</td> <td> 0.000</td> <td>    0.080</td> <td>    0.236</td>\n",
       "</tr>\n",
       "<tr>\n",
       "  <th>StaffQuarter</th>      <td>    0.0310</td> <td>    0.066</td> <td>    0.468</td> <td> 0.640</td> <td>   -0.099</td> <td>    0.161</td>\n",
       "</tr>\n",
       "<tr>\n",
       "  <th>Cafeteria</th>         <td>   -0.3070</td> <td>    0.050</td> <td>   -6.157</td> <td> 0.000</td> <td>   -0.405</td> <td>   -0.209</td>\n",
       "</tr>\n",
       "<tr>\n",
       "  <th>MultipurposeRoom</th>  <td>   -0.1850</td> <td>    0.043</td> <td>   -4.333</td> <td> 0.000</td> <td>   -0.269</td> <td>   -0.101</td>\n",
       "</tr>\n",
       "<tr>\n",
       "  <th>AC</th>                <td>   -0.0273</td> <td>    0.145</td> <td>   -0.188</td> <td> 0.851</td> <td>   -0.312</td> <td>    0.257</td>\n",
       "</tr>\n",
       "<tr>\n",
       "  <th>Wifi</th>              <td> 7.063e-17</td> <td> 3.14e-16</td> <td>    0.225</td> <td> 0.822</td> <td>-5.45e-16</td> <td> 6.86e-16</td>\n",
       "</tr>\n",
       "<tr>\n",
       "  <th>BED</th>               <td>    0.2005</td> <td>    0.116</td> <td>    1.736</td> <td> 0.083</td> <td>   -0.026</td> <td>    0.427</td>\n",
       "</tr>\n",
       "<tr>\n",
       "  <th>Microwave</th>         <td>    0.1371</td> <td>    0.181</td> <td>    0.756</td> <td> 0.450</td> <td>   -0.219</td> <td>    0.493</td>\n",
       "</tr>\n",
       "<tr>\n",
       "  <th>GolfCourse</th>        <td>         0</td> <td>        0</td> <td>      nan</td> <td>   nan</td> <td>        0</td> <td>        0</td>\n",
       "</tr>\n",
       "<tr>\n",
       "  <th>Sofa</th>              <td>    0.7299</td> <td>    0.174</td> <td>    4.202</td> <td> 0.000</td> <td>    0.389</td> <td>    1.071</td>\n",
       "</tr>\n",
       "</table>\n",
       "<table class=\"simpletable\">\n",
       "<tr>\n",
       "  <th>Omnibus:</th>       <td>1741.581</td> <th>  Durbin-Watson:     </th>  <td>   1.020</td> \n",
       "</tr>\n",
       "<tr>\n",
       "  <th>Prob(Omnibus):</th>  <td> 0.000</td>  <th>  Jarque-Bera (JB):  </th> <td>172706.835</td>\n",
       "</tr>\n",
       "<tr>\n",
       "  <th>Skew:</th>           <td> 2.986</td>  <th>  Prob(JB):          </th>  <td>    0.00</td> \n",
       "</tr>\n",
       "<tr>\n",
       "  <th>Kurtosis:</th>       <td>45.668</td>  <th>  Cond. No.          </th>  <td>     inf</td> \n",
       "</tr>\n",
       "</table><br/><br/>Notes:<br/>[1] Standard Errors assume that the covariance matrix of the errors is correctly specified.<br/>[2] The smallest eigenvalue is      0. This might indicate that there are<br/>strong multicollinearity problems or that the design matrix is singular."
      ],
      "text/plain": [
       "<class 'statsmodels.iolib.summary.Summary'>\n",
       "\"\"\"\n",
       "                            OLS Regression Results                            \n",
       "==============================================================================\n",
       "Dep. Variable:                  Price   R-squared:                       0.648\n",
       "Model:                            OLS   Adj. R-squared:                  0.646\n",
       "Method:                 Least Squares   F-statistic:                     255.0\n",
       "Date:                Thu, 09 Sep 2021   Prob (F-statistic):               0.00\n",
       "Time:                        18:57:41   Log-Likelihood:                -2002.5\n",
       "No. Observations:                2233   AIC:                             4039.\n",
       "Df Residuals:                    2216   BIC:                             4136.\n",
       "Df Model:                          16                                         \n",
       "Covariance Type:            nonrobust                                         \n",
       "=====================================================================================\n",
       "                        coef    std err          t      P>|t|      [0.025      0.975]\n",
       "-------------------------------------------------------------------------------------\n",
       "const                 0.5533      0.069      8.029      0.000       0.418       0.688\n",
       "Area                  0.9073      0.020     44.664      0.000       0.867       0.947\n",
       "No. of Bedrooms      -0.2110      0.029     -7.371      0.000      -0.267      -0.155\n",
       "LandscapedGardens     0.3222      0.044      7.255      0.000       0.235       0.409\n",
       "JoggingTrack         -0.2088      0.046     -4.508      0.000      -0.300      -0.118\n",
       "IndoorGames          -0.1468      0.042     -3.528      0.000      -0.228      -0.065\n",
       "ShoppingMall         -0.1643      0.097     -1.691      0.091      -0.355       0.026\n",
       "ClubHouse            -0.0604      0.036     -1.687      0.092      -0.131       0.010\n",
       "School               -0.2531      0.077     -3.299      0.001      -0.404      -0.103\n",
       "CarParking            0.1582      0.040      3.976      0.000       0.080       0.236\n",
       "StaffQuarter          0.0310      0.066      0.468      0.640      -0.099       0.161\n",
       "Cafeteria            -0.3070      0.050     -6.157      0.000      -0.405      -0.209\n",
       "MultipurposeRoom     -0.1850      0.043     -4.333      0.000      -0.269      -0.101\n",
       "AC                   -0.0273      0.145     -0.188      0.851      -0.312       0.257\n",
       "Wifi               7.063e-17   3.14e-16      0.225      0.822   -5.45e-16    6.86e-16\n",
       "BED                   0.2005      0.116      1.736      0.083      -0.026       0.427\n",
       "Microwave             0.1371      0.181      0.756      0.450      -0.219       0.493\n",
       "GolfCourse                 0          0        nan        nan           0           0\n",
       "Sofa                  0.7299      0.174      4.202      0.000       0.389       1.071\n",
       "==============================================================================\n",
       "Omnibus:                     1741.581   Durbin-Watson:                   1.020\n",
       "Prob(Omnibus):                  0.000   Jarque-Bera (JB):           172706.835\n",
       "Skew:                           2.986   Prob(JB):                         0.00\n",
       "Kurtosis:                      45.668   Cond. No.                          inf\n",
       "==============================================================================\n",
       "\n",
       "Notes:\n",
       "[1] Standard Errors assume that the covariance matrix of the errors is correctly specified.\n",
       "[2] The smallest eigenvalue is      0. This might indicate that there are\n",
       "strong multicollinearity problems or that the design matrix is singular.\n",
       "\"\"\""
      ]
     },
     "execution_count": 200,
     "metadata": {},
     "output_type": "execute_result"
    }
   ],
   "source": [
    "xc = sm.add_constant(x)\n",
    "ols_c = sm.OLS(y,xc).fit()\n",
    "ols_c.summary()"
   ]
  },
  {
   "cell_type": "code",
   "execution_count": 201,
   "metadata": {},
   "outputs": [
    {
     "name": "stdout",
     "output_type": "stream",
     "text": [
      "The Accuracy of the above CHENNAI DATASET using OLS method iS: 0.6480715765319841\n"
     ]
    }
   ],
   "source": [
    "print('The Accuracy of the above CHENNAI DATASET using OLS method iS:',ols_c.rsquared)"
   ]
  },
  {
   "cell_type": "markdown",
   "metadata": {},
   "source": [
    "# FINAL MODEL BUILDING"
   ]
  },
  {
   "cell_type": "markdown",
   "metadata": {},
   "source": [
    "# Hyperparameter tuning"
   ]
  },
  {
   "cell_type": "code",
   "execution_count": 202,
   "metadata": {},
   "outputs": [],
   "source": [
    "from sklearn.model_selection import GridSearchCV\n",
    "\n",
    "from sklearn.linear_model import Lasso,Ridge,ElasticNet\n",
    "from sklearn.metrics import r2_score,mean_squared_error"
   ]
  },
  {
   "cell_type": "code",
   "execution_count": 203,
   "metadata": {},
   "outputs": [],
   "source": [
    "from sklearn.model_selection import GridSearchCV"
   ]
  },
  {
   "cell_type": "code",
   "execution_count": 204,
   "metadata": {},
   "outputs": [],
   "source": [
    "def build_model(instance):\n",
    "    model=instance.fit(xtrain,y_train)\n",
    "    print(\"Train R2:\",model.score(xtrain,y_train))\n",
    "    print(\"Test R2:\",model.score(xtest,y_test))\n",
    "    print(\"Train RMSE:\",np.sqrt(mean_squared_error(y_train,model.predict(xtrain))))\n",
    "    print(\"Test RMSE:\",np.sqrt(mean_squared_error(y_test,model.predict(xtest))))"
   ]
  },
  {
   "cell_type": "markdown",
   "metadata": {},
   "source": [
    "### LASSO"
   ]
  },
  {
   "cell_type": "code",
   "execution_count": 257,
   "metadata": {},
   "outputs": [
    {
     "data": {
      "text/plain": [
       "GridSearchCV(cv=5, estimator=Lasso(normalize=True),\n",
       "             param_grid={'alpha': [0.01, 0.02, 0.1, 0.9, 0.85, 0.001, 0.0001,\n",
       "                                   0.0003, 0.005]},\n",
       "             scoring='r2')"
      ]
     },
     "execution_count": 257,
     "metadata": {},
     "output_type": "execute_result"
    }
   ],
   "source": [
    "param = {'alpha':[0.01,0.02,0.1,0.9,0.85,0.001,0.0001,0.0003,0.005]}\n",
    "l = Lasso(normalize=True)\n",
    "\n",
    "lassocv = GridSearchCV(l,param,cv=5,scoring='r2')\n",
    "lassocv.fit(x_train,y_train)"
   ]
  },
  {
   "cell_type": "code",
   "execution_count": 258,
   "metadata": {},
   "outputs": [
    {
     "data": {
      "text/plain": [
       "{'alpha': 0.0003}"
      ]
     },
     "execution_count": 258,
     "metadata": {},
     "output_type": "execute_result"
    }
   ],
   "source": [
    "lassocv.best_params_"
   ]
  },
  {
   "cell_type": "code",
   "execution_count": 259,
   "metadata": {},
   "outputs": [],
   "source": [
    "xtrain=x_train\n",
    "ytrain=y_train\n",
    "xtest=x_test\n",
    "ytest=y_test"
   ]
  },
  {
   "cell_type": "code",
   "execution_count": 261,
   "metadata": {},
   "outputs": [
    {
     "name": "stdout",
     "output_type": "stream",
     "text": [
      "Train R2: 0.6662160018014702\n",
      "Test R2: 0.5768579078304616\n",
      "Train RMSE: 0.6164853232784105\n",
      "Test RMSE: 0.5343424056193413\n"
     ]
    }
   ],
   "source": [
    "lasso001 = Lasso(alpha=0.0003,normalize=True)\n",
    "\n",
    "build_model(lasso001)"
   ]
  },
  {
   "cell_type": "markdown",
   "metadata": {},
   "source": [
    "# ENET"
   ]
  },
  {
   "cell_type": "code",
   "execution_count": 265,
   "metadata": {},
   "outputs": [
    {
     "data": {
      "text/plain": [
       "{'alpha': 0.0001, 'l1_ratio': 0.8}"
      ]
     },
     "execution_count": 265,
     "metadata": {},
     "output_type": "execute_result"
    }
   ],
   "source": [
    "from sklearn.model_selection import GridSearchCV\n",
    "\n",
    "param = {'alpha':[0.01,0.02,0.001,0.0005,0.0001,0.003,0.0005,0.00005],\n",
    "        'l1_ratio':[0.3,0.4,0.6,0.8,0.9,1,2,3]}\n",
    "enet = ElasticNet(normalize=True)\n",
    "\n",
    "enetcv = GridSearchCV(enet,param,cv=5,scoring='r2')\n",
    "enetcv.fit(xtrain,ytrain)\n",
    "enetcv.best_params_"
   ]
  },
  {
   "cell_type": "code",
   "execution_count": 266,
   "metadata": {},
   "outputs": [],
   "source": [
    "enetmod = ElasticNet(alpha= 0.0001,l1_ratio= 0.8)"
   ]
  },
  {
   "cell_type": "code",
   "execution_count": 267,
   "metadata": {},
   "outputs": [
    {
     "name": "stdout",
     "output_type": "stream",
     "text": [
      "Train R2: 0.6747959904814139\n",
      "Test R2: 0.5475853297155916\n",
      "Train RMSE: 0.6085102964983002\n",
      "Test RMSE: 0.5525160093835366\n"
     ]
    }
   ],
   "source": [
    "build_model(enetmod)"
   ]
  },
  {
   "cell_type": "markdown",
   "metadata": {},
   "source": [
    "### RIDGE"
   ]
  },
  {
   "cell_type": "code",
   "execution_count": 212,
   "metadata": {},
   "outputs": [],
   "source": [
    "rd = Ridge()"
   ]
  },
  {
   "cell_type": "code",
   "execution_count": 213,
   "metadata": {},
   "outputs": [],
   "source": [
    "param = {'alpha':[0.01,0.02,0.1,0.001]}"
   ]
  },
  {
   "cell_type": "code",
   "execution_count": 214,
   "metadata": {},
   "outputs": [
    {
     "data": {
      "text/plain": [
       "dict_keys(['alpha', 'copy_X', 'fit_intercept', 'max_iter', 'normalize', 'random_state', 'solver', 'tol'])"
      ]
     },
     "execution_count": 214,
     "metadata": {},
     "output_type": "execute_result"
    }
   ],
   "source": [
    "rd.get_params().keys()"
   ]
  },
  {
   "cell_type": "code",
   "execution_count": 233,
   "metadata": {},
   "outputs": [
    {
     "data": {
      "text/plain": [
       "{'alpha': 22}"
      ]
     },
     "execution_count": 233,
     "metadata": {},
     "output_type": "execute_result"
    }
   ],
   "source": [
    "from sklearn.model_selection import GridSearchCV\n",
    "\n",
    "param=[{'alpha':[0.001,0.005,0.01,0.1,0.2,0.5,0.8,1,2,3,4,5,6,7,8,9,10,11,12,20,22,23,25]}]         \n",
    "         \n",
    "rdmod = GridSearchCV(rd,param,cv=5,scoring='r2')\n",
    "rdmod.fit(xtrain,ytrain)\n",
    "rdmod.best_params_"
   ]
  },
  {
   "cell_type": "code",
   "execution_count": 235,
   "metadata": {},
   "outputs": [],
   "source": [
    "rdmodel = Ridge(alpha= 23)"
   ]
  },
  {
   "cell_type": "code",
   "execution_count": 236,
   "metadata": {},
   "outputs": [
    {
     "name": "stdout",
     "output_type": "stream",
     "text": [
      "Train R2: 0.6713320094591615\n",
      "Test R2: 0.5677109460060467\n",
      "Train RMSE: 0.611742551714796\n",
      "Test RMSE: 0.5400869034967332\n"
     ]
    }
   ],
   "source": [
    "build_model(rdmodel)"
   ]
  },
  {
   "cell_type": "code",
   "execution_count": 218,
   "metadata": {},
   "outputs": [],
   "source": [
    "#cross val score"
   ]
  },
  {
   "cell_type": "code",
   "execution_count": 219,
   "metadata": {
    "scrolled": true
   },
   "outputs": [
    {
     "data": {
      "text/plain": [
       "array([0.64759351, 0.67180155, 0.67545856, 0.56807121, 0.57691915])"
      ]
     },
     "execution_count": 219,
     "metadata": {},
     "output_type": "execute_result"
    }
   ],
   "source": [
    "cross_val_score(estimator=rd,X=xtrain,y=y_train,cv=5 )"
   ]
  },
  {
   "cell_type": "markdown",
   "metadata": {},
   "source": [
    "# BANGALORE"
   ]
  },
  {
   "cell_type": "markdown",
   "metadata": {},
   "source": [
    "## BASIC MODEL BUILDING"
   ]
  },
  {
   "cell_type": "code",
   "execution_count": 42,
   "metadata": {},
   "outputs": [],
   "source": [
    "df_b = pd.read_csv('Bangalore.csv')"
   ]
  },
  {
   "cell_type": "code",
   "execution_count": 43,
   "metadata": {},
   "outputs": [],
   "source": [
    "df_b = df_b.replace(9,np.nan)"
   ]
  },
  {
   "cell_type": "code",
   "execution_count": 44,
   "metadata": {},
   "outputs": [
    {
     "data": {
      "text/plain": [
       "(6207, 40)"
      ]
     },
     "execution_count": 44,
     "metadata": {},
     "output_type": "execute_result"
    }
   ],
   "source": [
    "df_b.shape"
   ]
  },
  {
   "cell_type": "code",
   "execution_count": 45,
   "metadata": {},
   "outputs": [],
   "source": [
    "df_b = df_b.dropna(axis=0)"
   ]
  },
  {
   "cell_type": "code",
   "execution_count": 46,
   "metadata": {},
   "outputs": [],
   "source": [
    "df_num = df_b.select_dtypes(include=np.number)"
   ]
  },
  {
   "cell_type": "code",
   "execution_count": 47,
   "metadata": {},
   "outputs": [],
   "source": [
    "vif = pd.DataFrame()"
   ]
  },
  {
   "cell_type": "code",
   "execution_count": 48,
   "metadata": {
    "scrolled": true
   },
   "outputs": [
    {
     "data": {
      "text/html": [
       "<div>\n",
       "<style scoped>\n",
       "    .dataframe tbody tr th:only-of-type {\n",
       "        vertical-align: middle;\n",
       "    }\n",
       "\n",
       "    .dataframe tbody tr th {\n",
       "        vertical-align: top;\n",
       "    }\n",
       "\n",
       "    .dataframe thead th {\n",
       "        text-align: right;\n",
       "    }\n",
       "</style>\n",
       "<table border=\"1\" class=\"dataframe\">\n",
       "  <thead>\n",
       "    <tr style=\"text-align: right;\">\n",
       "      <th></th>\n",
       "      <th>VIF</th>\n",
       "      <th>Features</th>\n",
       "    </tr>\n",
       "  </thead>\n",
       "  <tbody>\n",
       "    <tr>\n",
       "      <th>33</th>\n",
       "      <td>1.458881</td>\n",
       "      <td>GolfCourse</td>\n",
       "    </tr>\n",
       "    <tr>\n",
       "      <th>4</th>\n",
       "      <td>1.603694</td>\n",
       "      <td>MaintenanceStaff</td>\n",
       "    </tr>\n",
       "    <tr>\n",
       "      <th>21</th>\n",
       "      <td>1.745728</td>\n",
       "      <td>Cafeteria</td>\n",
       "    </tr>\n",
       "    <tr>\n",
       "      <th>14</th>\n",
       "      <td>1.957069</td>\n",
       "      <td>ATM</td>\n",
       "    </tr>\n",
       "    <tr>\n",
       "      <th>3</th>\n",
       "      <td>2.406167</td>\n",
       "      <td>Resale</td>\n",
       "    </tr>\n",
       "    <tr>\n",
       "      <th>20</th>\n",
       "      <td>3.115271</td>\n",
       "      <td>StaffQuarter</td>\n",
       "    </tr>\n",
       "    <tr>\n",
       "      <th>11</th>\n",
       "      <td>3.139284</td>\n",
       "      <td>ShoppingMall</td>\n",
       "    </tr>\n",
       "    <tr>\n",
       "      <th>25</th>\n",
       "      <td>3.511907</td>\n",
       "      <td>Gasconnection</td>\n",
       "    </tr>\n",
       "    <tr>\n",
       "      <th>31</th>\n",
       "      <td>3.815339</td>\n",
       "      <td>VaastuCompliant</td>\n",
       "    </tr>\n",
       "    <tr>\n",
       "      <th>22</th>\n",
       "      <td>4.117803</td>\n",
       "      <td>MultipurposeRoom</td>\n",
       "    </tr>\n",
       "    <tr>\n",
       "      <th>23</th>\n",
       "      <td>4.283018</td>\n",
       "      <td>Hospital</td>\n",
       "    </tr>\n",
       "    <tr>\n",
       "      <th>13</th>\n",
       "      <td>4.297857</td>\n",
       "      <td>SportsFacility</td>\n",
       "    </tr>\n",
       "    <tr>\n",
       "      <th>19</th>\n",
       "      <td>4.376168</td>\n",
       "      <td>CarParking</td>\n",
       "    </tr>\n",
       "    <tr>\n",
       "      <th>10</th>\n",
       "      <td>4.655874</td>\n",
       "      <td>IndoorGames</td>\n",
       "    </tr>\n",
       "    <tr>\n",
       "      <th>16</th>\n",
       "      <td>5.494210</td>\n",
       "      <td>School</td>\n",
       "    </tr>\n",
       "    <tr>\n",
       "      <th>9</th>\n",
       "      <td>6.062635</td>\n",
       "      <td>RainWaterHarvesting</td>\n",
       "    </tr>\n",
       "    <tr>\n",
       "      <th>7</th>\n",
       "      <td>7.017463</td>\n",
       "      <td>LandscapedGardens</td>\n",
       "    </tr>\n",
       "    <tr>\n",
       "      <th>12</th>\n",
       "      <td>7.199274</td>\n",
       "      <td>Intercom</td>\n",
       "    </tr>\n",
       "    <tr>\n",
       "      <th>17</th>\n",
       "      <td>8.130870</td>\n",
       "      <td>24X7Security</td>\n",
       "    </tr>\n",
       "    <tr>\n",
       "      <th>8</th>\n",
       "      <td>8.385783</td>\n",
       "      <td>JoggingTrack</td>\n",
       "    </tr>\n",
       "    <tr>\n",
       "      <th>15</th>\n",
       "      <td>8.582646</td>\n",
       "      <td>ClubHouse</td>\n",
       "    </tr>\n",
       "    <tr>\n",
       "      <th>0</th>\n",
       "      <td>10.658495</td>\n",
       "      <td>Price</td>\n",
       "    </tr>\n",
       "    <tr>\n",
       "      <th>29</th>\n",
       "      <td>10.868955</td>\n",
       "      <td>LiftAvailable</td>\n",
       "    </tr>\n",
       "    <tr>\n",
       "      <th>6</th>\n",
       "      <td>14.399751</td>\n",
       "      <td>SwimmingPool</td>\n",
       "    </tr>\n",
       "    <tr>\n",
       "      <th>18</th>\n",
       "      <td>19.249629</td>\n",
       "      <td>PowerBackup</td>\n",
       "    </tr>\n",
       "    <tr>\n",
       "      <th>28</th>\n",
       "      <td>19.680795</td>\n",
       "      <td>Children'splayarea</td>\n",
       "    </tr>\n",
       "    <tr>\n",
       "      <th>5</th>\n",
       "      <td>24.866301</td>\n",
       "      <td>Gymnasium</td>\n",
       "    </tr>\n",
       "    <tr>\n",
       "      <th>2</th>\n",
       "      <td>32.367937</td>\n",
       "      <td>No. of Bedrooms</td>\n",
       "    </tr>\n",
       "    <tr>\n",
       "      <th>1</th>\n",
       "      <td>47.285057</td>\n",
       "      <td>Area</td>\n",
       "    </tr>\n",
       "    <tr>\n",
       "      <th>26</th>\n",
       "      <td>69.976851</td>\n",
       "      <td>AC</td>\n",
       "    </tr>\n",
       "    <tr>\n",
       "      <th>30</th>\n",
       "      <td>114.858972</td>\n",
       "      <td>BED</td>\n",
       "    </tr>\n",
       "    <tr>\n",
       "      <th>36</th>\n",
       "      <td>inf</td>\n",
       "      <td>Sofa</td>\n",
       "    </tr>\n",
       "    <tr>\n",
       "      <th>32</th>\n",
       "      <td>inf</td>\n",
       "      <td>Microwave</td>\n",
       "    </tr>\n",
       "    <tr>\n",
       "      <th>34</th>\n",
       "      <td>inf</td>\n",
       "      <td>TV</td>\n",
       "    </tr>\n",
       "    <tr>\n",
       "      <th>35</th>\n",
       "      <td>inf</td>\n",
       "      <td>DiningTable</td>\n",
       "    </tr>\n",
       "    <tr>\n",
       "      <th>24</th>\n",
       "      <td>inf</td>\n",
       "      <td>WashingMachine</td>\n",
       "    </tr>\n",
       "    <tr>\n",
       "      <th>38</th>\n",
       "      <td>inf</td>\n",
       "      <td>Refrigerator</td>\n",
       "    </tr>\n",
       "    <tr>\n",
       "      <th>27</th>\n",
       "      <td>NaN</td>\n",
       "      <td>Wifi</td>\n",
       "    </tr>\n",
       "    <tr>\n",
       "      <th>37</th>\n",
       "      <td>NaN</td>\n",
       "      <td>Wardrobe</td>\n",
       "    </tr>\n",
       "  </tbody>\n",
       "</table>\n",
       "</div>"
      ],
      "text/plain": [
       "          VIF             Features\n",
       "33   1.458881           GolfCourse\n",
       "4    1.603694     MaintenanceStaff\n",
       "21   1.745728            Cafeteria\n",
       "14   1.957069                  ATM\n",
       "3    2.406167               Resale\n",
       "20   3.115271         StaffQuarter\n",
       "11   3.139284         ShoppingMall\n",
       "25   3.511907        Gasconnection\n",
       "31   3.815339      VaastuCompliant\n",
       "22   4.117803     MultipurposeRoom\n",
       "23   4.283018             Hospital\n",
       "13   4.297857       SportsFacility\n",
       "19   4.376168           CarParking\n",
       "10   4.655874          IndoorGames\n",
       "16   5.494210               School\n",
       "9    6.062635  RainWaterHarvesting\n",
       "7    7.017463    LandscapedGardens\n",
       "12   7.199274             Intercom\n",
       "17   8.130870         24X7Security\n",
       "8    8.385783         JoggingTrack\n",
       "15   8.582646            ClubHouse\n",
       "0   10.658495                Price\n",
       "29  10.868955        LiftAvailable\n",
       "6   14.399751         SwimmingPool\n",
       "18  19.249629          PowerBackup\n",
       "28  19.680795   Children'splayarea\n",
       "5   24.866301            Gymnasium\n",
       "2   32.367937      No. of Bedrooms\n",
       "1   47.285057                 Area\n",
       "26  69.976851                   AC\n",
       "30 114.858972                  BED\n",
       "36        inf                 Sofa\n",
       "32        inf            Microwave\n",
       "34        inf                   TV\n",
       "35        inf          DiningTable\n",
       "24        inf       WashingMachine\n",
       "38        inf         Refrigerator\n",
       "27        NaN                 Wifi\n",
       "37        NaN             Wardrobe"
      ]
     },
     "execution_count": 48,
     "metadata": {},
     "output_type": "execute_result"
    }
   ],
   "source": [
    "vif['VIF'] = [VIF(df_num.values,i) for i in range(df_num.shape[1])]\n",
    "vif['Features'] = df_num.columns\n",
    "vif.sort_values(['VIF'],ascending=True)"
   ]
  },
  {
   "cell_type": "markdown",
   "metadata": {},
   "source": [
    "## Feature Engineering"
   ]
  },
  {
   "cell_type": "markdown",
   "metadata": {},
   "source": [
    "### Feature Selection"
   ]
  },
  {
   "cell_type": "code",
   "execution_count": 49,
   "metadata": {},
   "outputs": [],
   "source": [
    "from sklearn.model_selection import train_test_split"
   ]
  },
  {
   "cell_type": "code",
   "execution_count": 50,
   "metadata": {},
   "outputs": [],
   "source": [
    "df_b.set_index('Location', inplace=True)"
   ]
  },
  {
   "cell_type": "code",
   "execution_count": 51,
   "metadata": {},
   "outputs": [],
   "source": [
    "df_b['Area']=ss.fit_transform(np.array(df_b['Area']).reshape(-1,1))\n",
    "\n",
    "df_b['Price']=ss.fit_transform(np.array(df_b['Price']).reshape(-1,1))"
   ]
  },
  {
   "cell_type": "code",
   "execution_count": 52,
   "metadata": {},
   "outputs": [],
   "source": [
    "x = df_b.drop('Price',1)\n",
    "y = df_b['Price']"
   ]
  },
  {
   "cell_type": "code",
   "execution_count": 53,
   "metadata": {},
   "outputs": [],
   "source": [
    "x_train,x_test,y_train,y_test = train_test_split(x,y,test_size=0.3,random_state=100)"
   ]
  },
  {
   "cell_type": "code",
   "execution_count": 54,
   "metadata": {},
   "outputs": [],
   "source": [
    "lr = LinearRegression()"
   ]
  },
  {
   "cell_type": "code",
   "execution_count": 55,
   "metadata": {},
   "outputs": [],
   "source": [
    "from mlxtend.feature_selection import SequentialFeatureSelector as sfs"
   ]
  },
  {
   "cell_type": "code",
   "execution_count": 56,
   "metadata": {},
   "outputs": [],
   "source": [
    "bwd = sfs(estimator = lr,k_features='best',forward=False,cv=5,scoring='r2')"
   ]
  },
  {
   "cell_type": "code",
   "execution_count": 57,
   "metadata": {},
   "outputs": [],
   "source": [
    "bwd_mod = bwd.fit(x_train,y_train)"
   ]
  },
  {
   "cell_type": "code",
   "execution_count": 58,
   "metadata": {},
   "outputs": [
    {
     "data": {
      "text/plain": [
       "['Area',\n",
       " 'No. of Bedrooms',\n",
       " 'MaintenanceStaff',\n",
       " 'SwimmingPool',\n",
       " 'LandscapedGardens',\n",
       " 'JoggingTrack',\n",
       " 'RainWaterHarvesting',\n",
       " 'ShoppingMall',\n",
       " 'Intercom',\n",
       " 'ATM',\n",
       " 'ClubHouse',\n",
       " 'School',\n",
       " 'StaffQuarter',\n",
       " 'Cafeteria',\n",
       " 'WashingMachine',\n",
       " \"Children'splayarea\",\n",
       " 'BED',\n",
       " 'VaastuCompliant',\n",
       " 'GolfCourse',\n",
       " 'TV',\n",
       " 'DiningTable']"
      ]
     },
     "execution_count": 58,
     "metadata": {},
     "output_type": "execute_result"
    }
   ],
   "source": [
    "bwd_names = bwd_mod.k_feature_names_\n",
    "bwd_feat = list(bwd_names)\n",
    "bwd_feat"
   ]
  },
  {
   "cell_type": "markdown",
   "metadata": {},
   "source": [
    "# Assumptions"
   ]
  },
  {
   "cell_type": "markdown",
   "metadata": {},
   "source": [
    "### Regression"
   ]
  },
  {
   "cell_type": "code",
   "execution_count": 59,
   "metadata": {},
   "outputs": [],
   "source": [
    "x = df_b[['Area',\n",
    " 'No. of Bedrooms',\n",
    " 'MaintenanceStaff',\n",
    " 'SwimmingPool',\n",
    " 'LandscapedGardens',\n",
    " 'JoggingTrack',\n",
    " 'RainWaterHarvesting',\n",
    " 'ShoppingMall',\n",
    " 'Intercom',\n",
    " 'ATM',\n",
    " 'ClubHouse',\n",
    " 'School',\n",
    " 'StaffQuarter',\n",
    " 'Cafeteria',\n",
    " 'WashingMachine',\n",
    " \"Children'splayarea\",\n",
    " 'BED',\n",
    " 'VaastuCompliant',\n",
    " 'GolfCourse',\n",
    " 'TV',\n",
    " 'DiningTable']]\n",
    "y = df_b['Price']"
   ]
  },
  {
   "cell_type": "code",
   "execution_count": 60,
   "metadata": {},
   "outputs": [
    {
     "data": {
      "text/html": [
       "<table class=\"simpletable\">\n",
       "<caption>OLS Regression Results</caption>\n",
       "<tr>\n",
       "  <th>Dep. Variable:</th>          <td>Price</td>      <th>  R-squared:         </th> <td>   0.856</td>\n",
       "</tr>\n",
       "<tr>\n",
       "  <th>Model:</th>                   <td>OLS</td>       <th>  Adj. R-squared:    </th> <td>   0.854</td>\n",
       "</tr>\n",
       "<tr>\n",
       "  <th>Method:</th>             <td>Least Squares</td>  <th>  F-statistic:       </th> <td>   602.2</td>\n",
       "</tr>\n",
       "<tr>\n",
       "  <th>Date:</th>             <td>Thu, 09 Sep 2021</td> <th>  Prob (F-statistic):</th>  <td>  0.00</td> \n",
       "</tr>\n",
       "<tr>\n",
       "  <th>Time:</th>                 <td>18:34:45</td>     <th>  Log-Likelihood:    </th> <td> -880.62</td>\n",
       "</tr>\n",
       "<tr>\n",
       "  <th>No. Observations:</th>      <td>  1951</td>      <th>  AIC:               </th> <td>   1801.</td>\n",
       "</tr>\n",
       "<tr>\n",
       "  <th>Df Residuals:</th>          <td>  1931</td>      <th>  BIC:               </th> <td>   1913.</td>\n",
       "</tr>\n",
       "<tr>\n",
       "  <th>Df Model:</th>              <td>    19</td>      <th>                     </th>     <td> </td>   \n",
       "</tr>\n",
       "<tr>\n",
       "  <th>Covariance Type:</th>      <td>nonrobust</td>    <th>                     </th>     <td> </td>   \n",
       "</tr>\n",
       "</table>\n",
       "<table class=\"simpletable\">\n",
       "<tr>\n",
       "           <td></td>              <th>coef</th>     <th>std err</th>      <th>t</th>      <th>P>|t|</th>  <th>[0.025</th>    <th>0.975]</th>  \n",
       "</tr>\n",
       "<tr>\n",
       "  <th>const</th>               <td>    0.7240</td> <td>    0.054</td> <td>   13.375</td> <td> 0.000</td> <td>    0.618</td> <td>    0.830</td>\n",
       "</tr>\n",
       "<tr>\n",
       "  <th>Area</th>                <td>    1.0467</td> <td>    0.012</td> <td>   83.743</td> <td> 0.000</td> <td>    1.022</td> <td>    1.071</td>\n",
       "</tr>\n",
       "<tr>\n",
       "  <th>No. of Bedrooms</th>     <td>   -0.3169</td> <td>    0.018</td> <td>  -17.304</td> <td> 0.000</td> <td>   -0.353</td> <td>   -0.281</td>\n",
       "</tr>\n",
       "<tr>\n",
       "  <th>MaintenanceStaff</th>    <td>    0.0537</td> <td>    0.030</td> <td>    1.783</td> <td> 0.075</td> <td>   -0.005</td> <td>    0.113</td>\n",
       "</tr>\n",
       "<tr>\n",
       "  <th>SwimmingPool</th>        <td>    0.1547</td> <td>    0.033</td> <td>    4.650</td> <td> 0.000</td> <td>    0.089</td> <td>    0.220</td>\n",
       "</tr>\n",
       "<tr>\n",
       "  <th>LandscapedGardens</th>   <td>   -0.2581</td> <td>    0.026</td> <td>   -9.975</td> <td> 0.000</td> <td>   -0.309</td> <td>   -0.207</td>\n",
       "</tr>\n",
       "<tr>\n",
       "  <th>JoggingTrack</th>        <td>    0.0277</td> <td>    0.027</td> <td>    1.018</td> <td> 0.309</td> <td>   -0.026</td> <td>    0.081</td>\n",
       "</tr>\n",
       "<tr>\n",
       "  <th>RainWaterHarvesting</th> <td>    0.1721</td> <td>    0.024</td> <td>    7.264</td> <td> 0.000</td> <td>    0.126</td> <td>    0.219</td>\n",
       "</tr>\n",
       "<tr>\n",
       "  <th>ShoppingMall</th>        <td>    0.1983</td> <td>    0.040</td> <td>    4.997</td> <td> 0.000</td> <td>    0.120</td> <td>    0.276</td>\n",
       "</tr>\n",
       "<tr>\n",
       "  <th>Intercom</th>            <td>    0.0605</td> <td>    0.023</td> <td>    2.591</td> <td> 0.010</td> <td>    0.015</td> <td>    0.106</td>\n",
       "</tr>\n",
       "<tr>\n",
       "  <th>ATM</th>                 <td>   -0.1040</td> <td>    0.033</td> <td>   -3.182</td> <td> 0.001</td> <td>   -0.168</td> <td>   -0.040</td>\n",
       "</tr>\n",
       "<tr>\n",
       "  <th>ClubHouse</th>           <td>    0.0353</td> <td>    0.027</td> <td>    1.288</td> <td> 0.198</td> <td>   -0.018</td> <td>    0.089</td>\n",
       "</tr>\n",
       "<tr>\n",
       "  <th>School</th>              <td>   -0.2853</td> <td>    0.039</td> <td>   -7.317</td> <td> 0.000</td> <td>   -0.362</td> <td>   -0.209</td>\n",
       "</tr>\n",
       "<tr>\n",
       "  <th>StaffQuarter</th>        <td>    0.0834</td> <td>    0.030</td> <td>    2.780</td> <td> 0.005</td> <td>    0.025</td> <td>    0.142</td>\n",
       "</tr>\n",
       "<tr>\n",
       "  <th>Cafeteria</th>           <td>   -0.0616</td> <td>    0.024</td> <td>   -2.516</td> <td> 0.012</td> <td>   -0.110</td> <td>   -0.014</td>\n",
       "</tr>\n",
       "<tr>\n",
       "  <th>WashingMachine</th>      <td>    0.1518</td> <td>    0.074</td> <td>    2.043</td> <td> 0.041</td> <td>    0.006</td> <td>    0.298</td>\n",
       "</tr>\n",
       "<tr>\n",
       "  <th>Children'splayarea</th>  <td>   -0.0130</td> <td>    0.035</td> <td>   -0.370</td> <td> 0.712</td> <td>   -0.082</td> <td>    0.056</td>\n",
       "</tr>\n",
       "<tr>\n",
       "  <th>BED</th>                 <td>   -0.4742</td> <td>    0.222</td> <td>   -2.135</td> <td> 0.033</td> <td>   -0.910</td> <td>   -0.039</td>\n",
       "</tr>\n",
       "<tr>\n",
       "  <th>VaastuCompliant</th>     <td>   -0.1131</td> <td>    0.023</td> <td>   -4.868</td> <td> 0.000</td> <td>   -0.159</td> <td>   -0.068</td>\n",
       "</tr>\n",
       "<tr>\n",
       "  <th>GolfCourse</th>          <td>   -0.1750</td> <td>    0.052</td> <td>   -3.369</td> <td> 0.001</td> <td>   -0.277</td> <td>   -0.073</td>\n",
       "</tr>\n",
       "<tr>\n",
       "  <th>TV</th>                  <td>    0.1518</td> <td>    0.074</td> <td>    2.043</td> <td> 0.041</td> <td>    0.006</td> <td>    0.298</td>\n",
       "</tr>\n",
       "<tr>\n",
       "  <th>DiningTable</th>         <td>    0.1518</td> <td>    0.074</td> <td>    2.043</td> <td> 0.041</td> <td>    0.006</td> <td>    0.298</td>\n",
       "</tr>\n",
       "</table>\n",
       "<table class=\"simpletable\">\n",
       "<tr>\n",
       "  <th>Omnibus:</th>       <td>1735.244</td> <th>  Durbin-Watson:     </th>  <td>   1.327</td> \n",
       "</tr>\n",
       "<tr>\n",
       "  <th>Prob(Omnibus):</th>  <td> 0.000</td>  <th>  Jarque-Bera (JB):  </th> <td>154701.166</td>\n",
       "</tr>\n",
       "<tr>\n",
       "  <th>Skew:</th>           <td> 3.754</td>  <th>  Prob(JB):          </th>  <td>    0.00</td> \n",
       "</tr>\n",
       "<tr>\n",
       "  <th>Kurtosis:</th>       <td>45.973</td>  <th>  Cond. No.          </th>  <td>2.14e+32</td> \n",
       "</tr>\n",
       "</table><br/><br/>Notes:<br/>[1] Standard Errors assume that the covariance matrix of the errors is correctly specified.<br/>[2] The smallest eigenvalue is 5.3e-61. This might indicate that there are<br/>strong multicollinearity problems or that the design matrix is singular."
      ],
      "text/plain": [
       "<class 'statsmodels.iolib.summary.Summary'>\n",
       "\"\"\"\n",
       "                            OLS Regression Results                            \n",
       "==============================================================================\n",
       "Dep. Variable:                  Price   R-squared:                       0.856\n",
       "Model:                            OLS   Adj. R-squared:                  0.854\n",
       "Method:                 Least Squares   F-statistic:                     602.2\n",
       "Date:                Thu, 09 Sep 2021   Prob (F-statistic):               0.00\n",
       "Time:                        18:34:45   Log-Likelihood:                -880.62\n",
       "No. Observations:                1951   AIC:                             1801.\n",
       "Df Residuals:                    1931   BIC:                             1913.\n",
       "Df Model:                          19                                         \n",
       "Covariance Type:            nonrobust                                         \n",
       "=======================================================================================\n",
       "                          coef    std err          t      P>|t|      [0.025      0.975]\n",
       "---------------------------------------------------------------------------------------\n",
       "const                   0.7240      0.054     13.375      0.000       0.618       0.830\n",
       "Area                    1.0467      0.012     83.743      0.000       1.022       1.071\n",
       "No. of Bedrooms        -0.3169      0.018    -17.304      0.000      -0.353      -0.281\n",
       "MaintenanceStaff        0.0537      0.030      1.783      0.075      -0.005       0.113\n",
       "SwimmingPool            0.1547      0.033      4.650      0.000       0.089       0.220\n",
       "LandscapedGardens      -0.2581      0.026     -9.975      0.000      -0.309      -0.207\n",
       "JoggingTrack            0.0277      0.027      1.018      0.309      -0.026       0.081\n",
       "RainWaterHarvesting     0.1721      0.024      7.264      0.000       0.126       0.219\n",
       "ShoppingMall            0.1983      0.040      4.997      0.000       0.120       0.276\n",
       "Intercom                0.0605      0.023      2.591      0.010       0.015       0.106\n",
       "ATM                    -0.1040      0.033     -3.182      0.001      -0.168      -0.040\n",
       "ClubHouse               0.0353      0.027      1.288      0.198      -0.018       0.089\n",
       "School                 -0.2853      0.039     -7.317      0.000      -0.362      -0.209\n",
       "StaffQuarter            0.0834      0.030      2.780      0.005       0.025       0.142\n",
       "Cafeteria              -0.0616      0.024     -2.516      0.012      -0.110      -0.014\n",
       "WashingMachine          0.1518      0.074      2.043      0.041       0.006       0.298\n",
       "Children'splayarea     -0.0130      0.035     -0.370      0.712      -0.082       0.056\n",
       "BED                    -0.4742      0.222     -2.135      0.033      -0.910      -0.039\n",
       "VaastuCompliant        -0.1131      0.023     -4.868      0.000      -0.159      -0.068\n",
       "GolfCourse             -0.1750      0.052     -3.369      0.001      -0.277      -0.073\n",
       "TV                      0.1518      0.074      2.043      0.041       0.006       0.298\n",
       "DiningTable             0.1518      0.074      2.043      0.041       0.006       0.298\n",
       "==============================================================================\n",
       "Omnibus:                     1735.244   Durbin-Watson:                   1.327\n",
       "Prob(Omnibus):                  0.000   Jarque-Bera (JB):           154701.166\n",
       "Skew:                           3.754   Prob(JB):                         0.00\n",
       "Kurtosis:                      45.973   Cond. No.                     2.14e+32\n",
       "==============================================================================\n",
       "\n",
       "Notes:\n",
       "[1] Standard Errors assume that the covariance matrix of the errors is correctly specified.\n",
       "[2] The smallest eigenvalue is 5.3e-61. This might indicate that there are\n",
       "strong multicollinearity problems or that the design matrix is singular.\n",
       "\"\"\""
      ]
     },
     "execution_count": 60,
     "metadata": {},
     "output_type": "execute_result"
    }
   ],
   "source": [
    "xc = sm.add_constant(x)\n",
    "ols_c = sm.OLS(y,xc).fit()\n",
    "ols_c.summary()"
   ]
  },
  {
   "cell_type": "code",
   "execution_count": 61,
   "metadata": {},
   "outputs": [
    {
     "name": "stdout",
     "output_type": "stream",
     "text": [
      "The Accuracy of the above BANGALORE DATASET using OLS method iS: 0.8555960347836125\n"
     ]
    }
   ],
   "source": [
    "print('The Accuracy of the above BANGALORE DATASET using OLS method iS:',ols_c.rsquared)"
   ]
  },
  {
   "cell_type": "markdown",
   "metadata": {},
   "source": [
    "# FINAL MODEL BUILDING"
   ]
  },
  {
   "cell_type": "markdown",
   "metadata": {},
   "source": [
    "# Hyperparameter tuning"
   ]
  },
  {
   "cell_type": "code",
   "execution_count": 62,
   "metadata": {},
   "outputs": [],
   "source": [
    "from sklearn.model_selection import GridSearchCV\n",
    "\n",
    "from sklearn.linear_model import Lasso,Ridge,ElasticNet\n",
    "from sklearn.metrics import r2_score,mean_squared_error"
   ]
  },
  {
   "cell_type": "code",
   "execution_count": 63,
   "metadata": {},
   "outputs": [],
   "source": [
    "from sklearn.model_selection import GridSearchCV"
   ]
  },
  {
   "cell_type": "code",
   "execution_count": 64,
   "metadata": {},
   "outputs": [],
   "source": [
    "def build_model(instance):\n",
    "    model=instance.fit(xtrain,y_train)\n",
    "    print(\"Train R2:\",model.score(xtrain,y_train))\n",
    "    print(\"Test R2:\",model.score(xtest,y_test))\n",
    "    print(\"Train RMSE:\",np.sqrt(mean_squared_error(y_train,model.predict(xtrain))))\n",
    "    print(\"Test RMSE:\",np.sqrt(mean_squared_error(y_test,model.predict(xtest))))"
   ]
  },
  {
   "cell_type": "markdown",
   "metadata": {},
   "source": [
    "### LASSO"
   ]
  },
  {
   "cell_type": "code",
   "execution_count": 65,
   "metadata": {},
   "outputs": [
    {
     "data": {
      "text/plain": [
       "GridSearchCV(cv=5, estimator=Lasso(normalize=True),\n",
       "             param_grid={'alpha': [0.01, 0.02, 0.1, 0.95, 0.9, 0.001, 0.0001,\n",
       "                                   0.0006, 0.0004]},\n",
       "             scoring='r2')"
      ]
     },
     "execution_count": 65,
     "metadata": {},
     "output_type": "execute_result"
    }
   ],
   "source": [
    "param = {'alpha':[0.01,0.02,0.1,0.95,0.90,0.001,0.0001,0.0006,0.0004]}\n",
    "l = Lasso(normalize=True)\n",
    "\n",
    "lassocv = GridSearchCV(l,param,cv=5,scoring='r2')\n",
    "lassocv.fit(x_train,y_train)"
   ]
  },
  {
   "cell_type": "code",
   "execution_count": 66,
   "metadata": {},
   "outputs": [
    {
     "data": {
      "text/plain": [
       "{'alpha': 0.0001}"
      ]
     },
     "execution_count": 66,
     "metadata": {},
     "output_type": "execute_result"
    }
   ],
   "source": [
    "lassocv.best_params_"
   ]
  },
  {
   "cell_type": "code",
   "execution_count": 67,
   "metadata": {},
   "outputs": [],
   "source": [
    "xtrain=x_train\n",
    "ytrain=y_train\n",
    "xtest=x_test\n",
    "ytest=y_test"
   ]
  },
  {
   "cell_type": "code",
   "execution_count": 68,
   "metadata": {},
   "outputs": [
    {
     "name": "stdout",
     "output_type": "stream",
     "text": [
      "Train R2: 0.8665776293547037\n",
      "Test R2: 0.8209964960459237\n",
      "Train RMSE: 0.38944827385913866\n",
      "Test RMSE: 0.34858654688714236\n"
     ]
    }
   ],
   "source": [
    "lasso001 = Lasso(alpha=0.0001,normalize=True)\n",
    "\n",
    "build_model(lasso001)"
   ]
  },
  {
   "cell_type": "markdown",
   "metadata": {},
   "source": [
    "# ENET"
   ]
  },
  {
   "cell_type": "code",
   "execution_count": 69,
   "metadata": {},
   "outputs": [
    {
     "data": {
      "text/plain": [
       "{'alpha': 5e-05, 'l1_ratio': 0.3}"
      ]
     },
     "execution_count": 69,
     "metadata": {},
     "output_type": "execute_result"
    }
   ],
   "source": [
    "from sklearn.model_selection import GridSearchCV\n",
    "\n",
    "param = {'alpha':[0.01,0.02,0.001,0.0005,0.0004,0.00005,0.00003],\n",
    "        'l1_ratio':[0.3,0.4,0.6,0.8,0.9]}\n",
    "enet = ElasticNet(normalize=True)\n",
    "\n",
    "enetcv = GridSearchCV(enet,param,cv=5,scoring='r2')\n",
    "enetcv.fit(xtrain,ytrain)\n",
    "enetcv.best_params_"
   ]
  },
  {
   "cell_type": "code",
   "execution_count": 70,
   "metadata": {},
   "outputs": [],
   "source": [
    "enetmod = ElasticNet(alpha= 5e-05,l1_ratio= 0.3)"
   ]
  },
  {
   "cell_type": "code",
   "execution_count": 71,
   "metadata": {},
   "outputs": [
    {
     "name": "stdout",
     "output_type": "stream",
     "text": [
      "Train R2: 0.8677941002609901\n",
      "Test R2: 0.817516740104482\n",
      "Train RMSE: 0.3876688222715952\n",
      "Test RMSE: 0.3519584297104483\n"
     ]
    }
   ],
   "source": [
    "build_model(enetmod)"
   ]
  },
  {
   "cell_type": "markdown",
   "metadata": {},
   "source": [
    "### RIDGE"
   ]
  },
  {
   "cell_type": "code",
   "execution_count": 72,
   "metadata": {},
   "outputs": [],
   "source": [
    "rd = Ridge()"
   ]
  },
  {
   "cell_type": "code",
   "execution_count": 73,
   "metadata": {},
   "outputs": [],
   "source": [
    "param = {'alpha':[0.01,0.02,0.1,0.001]}"
   ]
  },
  {
   "cell_type": "code",
   "execution_count": 74,
   "metadata": {},
   "outputs": [
    {
     "data": {
      "text/plain": [
       "{'alpha': 0.0999}"
      ]
     },
     "execution_count": 74,
     "metadata": {},
     "output_type": "execute_result"
    }
   ],
   "source": [
    "from sklearn.model_selection import GridSearchCV\n",
    "\n",
    "param = {'alpha':[0.01,0.099,0.001,0.0005,0.0001,0.00005,0.0999]}\n",
    "         \n",
    "         \n",
    "rdmod = GridSearchCV(rd,param,cv=5,scoring='r2')\n",
    "rdmod.fit(xtrain,ytrain)\n",
    "rdmod.best_params_"
   ]
  },
  {
   "cell_type": "code",
   "execution_count": 75,
   "metadata": {},
   "outputs": [],
   "source": [
    "rdmodel2 = Ridge(alpha= 0.0999)"
   ]
  },
  {
   "cell_type": "code",
   "execution_count": 76,
   "metadata": {},
   "outputs": [
    {
     "name": "stdout",
     "output_type": "stream",
     "text": [
      "Train R2: 0.867794547508173\n",
      "Test R2: 0.8175243874661765\n",
      "Train RMSE: 0.3876681665371097\n",
      "Test RMSE: 0.3519510548377766\n"
     ]
    }
   ],
   "source": [
    "build_model(rdmodel2)"
   ]
  },
  {
   "cell_type": "markdown",
   "metadata": {},
   "source": [
    "# HYDERABAD"
   ]
  },
  {
   "cell_type": "markdown",
   "metadata": {},
   "source": [
    "## BASIC MODEL BUILDING"
   ]
  },
  {
   "cell_type": "code",
   "execution_count": 77,
   "metadata": {},
   "outputs": [],
   "source": [
    "df_h = pd.read_csv('Hyderabad.csv')"
   ]
  },
  {
   "cell_type": "code",
   "execution_count": 78,
   "metadata": {},
   "outputs": [],
   "source": [
    "df_h = df_h.replace(9,np.nan)"
   ]
  },
  {
   "cell_type": "code",
   "execution_count": 79,
   "metadata": {},
   "outputs": [
    {
     "data": {
      "text/plain": [
       "(2518, 40)"
      ]
     },
     "execution_count": 79,
     "metadata": {},
     "output_type": "execute_result"
    }
   ],
   "source": [
    "df_h.shape"
   ]
  },
  {
   "cell_type": "code",
   "execution_count": 80,
   "metadata": {},
   "outputs": [],
   "source": [
    "df_h= df_h.dropna(axis=0)"
   ]
  },
  {
   "cell_type": "code",
   "execution_count": 81,
   "metadata": {},
   "outputs": [],
   "source": [
    "df_num = df_h.select_dtypes(include=np.number)"
   ]
  },
  {
   "cell_type": "code",
   "execution_count": 82,
   "metadata": {},
   "outputs": [],
   "source": [
    "vif = pd.DataFrame()"
   ]
  },
  {
   "cell_type": "code",
   "execution_count": 83,
   "metadata": {
    "scrolled": true
   },
   "outputs": [
    {
     "data": {
      "text/html": [
       "<div>\n",
       "<style scoped>\n",
       "    .dataframe tbody tr th:only-of-type {\n",
       "        vertical-align: middle;\n",
       "    }\n",
       "\n",
       "    .dataframe tbody tr th {\n",
       "        vertical-align: top;\n",
       "    }\n",
       "\n",
       "    .dataframe thead th {\n",
       "        text-align: right;\n",
       "    }\n",
       "</style>\n",
       "<table border=\"1\" class=\"dataframe\">\n",
       "  <thead>\n",
       "    <tr style=\"text-align: right;\">\n",
       "      <th></th>\n",
       "      <th>VIF</th>\n",
       "      <th>Features</th>\n",
       "    </tr>\n",
       "  </thead>\n",
       "  <tbody>\n",
       "    <tr>\n",
       "      <th>27</th>\n",
       "      <td>1.451814</td>\n",
       "      <td>Wifi</td>\n",
       "    </tr>\n",
       "    <tr>\n",
       "      <th>3</th>\n",
       "      <td>1.665369</td>\n",
       "      <td>Resale</td>\n",
       "    </tr>\n",
       "    <tr>\n",
       "      <th>37</th>\n",
       "      <td>1.745113</td>\n",
       "      <td>Wardrobe</td>\n",
       "    </tr>\n",
       "    <tr>\n",
       "      <th>33</th>\n",
       "      <td>1.769352</td>\n",
       "      <td>GolfCourse</td>\n",
       "    </tr>\n",
       "    <tr>\n",
       "      <th>4</th>\n",
       "      <td>1.810477</td>\n",
       "      <td>MaintenanceStaff</td>\n",
       "    </tr>\n",
       "    <tr>\n",
       "      <th>25</th>\n",
       "      <td>1.909397</td>\n",
       "      <td>Gasconnection</td>\n",
       "    </tr>\n",
       "    <tr>\n",
       "      <th>20</th>\n",
       "      <td>1.987606</td>\n",
       "      <td>StaffQuarter</td>\n",
       "    </tr>\n",
       "    <tr>\n",
       "      <th>30</th>\n",
       "      <td>1.995914</td>\n",
       "      <td>BED</td>\n",
       "    </tr>\n",
       "    <tr>\n",
       "      <th>21</th>\n",
       "      <td>2.220652</td>\n",
       "      <td>Cafeteria</td>\n",
       "    </tr>\n",
       "    <tr>\n",
       "      <th>26</th>\n",
       "      <td>2.261703</td>\n",
       "      <td>AC</td>\n",
       "    </tr>\n",
       "    <tr>\n",
       "      <th>32</th>\n",
       "      <td>2.515672</td>\n",
       "      <td>Microwave</td>\n",
       "    </tr>\n",
       "    <tr>\n",
       "      <th>34</th>\n",
       "      <td>2.632441</td>\n",
       "      <td>TV</td>\n",
       "    </tr>\n",
       "    <tr>\n",
       "      <th>14</th>\n",
       "      <td>2.679965</td>\n",
       "      <td>ATM</td>\n",
       "    </tr>\n",
       "    <tr>\n",
       "      <th>11</th>\n",
       "      <td>2.729069</td>\n",
       "      <td>ShoppingMall</td>\n",
       "    </tr>\n",
       "    <tr>\n",
       "      <th>36</th>\n",
       "      <td>3.447805</td>\n",
       "      <td>Sofa</td>\n",
       "    </tr>\n",
       "    <tr>\n",
       "      <th>24</th>\n",
       "      <td>3.470008</td>\n",
       "      <td>WashingMachine</td>\n",
       "    </tr>\n",
       "    <tr>\n",
       "      <th>13</th>\n",
       "      <td>3.602429</td>\n",
       "      <td>SportsFacility</td>\n",
       "    </tr>\n",
       "    <tr>\n",
       "      <th>22</th>\n",
       "      <td>3.619563</td>\n",
       "      <td>MultipurposeRoom</td>\n",
       "    </tr>\n",
       "    <tr>\n",
       "      <th>12</th>\n",
       "      <td>4.082138</td>\n",
       "      <td>Intercom</td>\n",
       "    </tr>\n",
       "    <tr>\n",
       "      <th>35</th>\n",
       "      <td>4.139626</td>\n",
       "      <td>DiningTable</td>\n",
       "    </tr>\n",
       "    <tr>\n",
       "      <th>16</th>\n",
       "      <td>4.410401</td>\n",
       "      <td>School</td>\n",
       "    </tr>\n",
       "    <tr>\n",
       "      <th>31</th>\n",
       "      <td>4.419802</td>\n",
       "      <td>VaastuCompliant</td>\n",
       "    </tr>\n",
       "    <tr>\n",
       "      <th>23</th>\n",
       "      <td>4.605837</td>\n",
       "      <td>Hospital</td>\n",
       "    </tr>\n",
       "    <tr>\n",
       "      <th>38</th>\n",
       "      <td>4.614201</td>\n",
       "      <td>Refrigerator</td>\n",
       "    </tr>\n",
       "    <tr>\n",
       "      <th>9</th>\n",
       "      <td>5.190010</td>\n",
       "      <td>RainWaterHarvesting</td>\n",
       "    </tr>\n",
       "    <tr>\n",
       "      <th>8</th>\n",
       "      <td>5.649805</td>\n",
       "      <td>JoggingTrack</td>\n",
       "    </tr>\n",
       "    <tr>\n",
       "      <th>10</th>\n",
       "      <td>5.686877</td>\n",
       "      <td>IndoorGames</td>\n",
       "    </tr>\n",
       "    <tr>\n",
       "      <th>7</th>\n",
       "      <td>6.321045</td>\n",
       "      <td>LandscapedGardens</td>\n",
       "    </tr>\n",
       "    <tr>\n",
       "      <th>19</th>\n",
       "      <td>7.415429</td>\n",
       "      <td>CarParking</td>\n",
       "    </tr>\n",
       "    <tr>\n",
       "      <th>28</th>\n",
       "      <td>8.154555</td>\n",
       "      <td>Children'splayarea</td>\n",
       "    </tr>\n",
       "    <tr>\n",
       "      <th>0</th>\n",
       "      <td>8.213591</td>\n",
       "      <td>Price</td>\n",
       "    </tr>\n",
       "    <tr>\n",
       "      <th>17</th>\n",
       "      <td>8.508441</td>\n",
       "      <td>24X7Security</td>\n",
       "    </tr>\n",
       "    <tr>\n",
       "      <th>18</th>\n",
       "      <td>8.653708</td>\n",
       "      <td>PowerBackup</td>\n",
       "    </tr>\n",
       "    <tr>\n",
       "      <th>29</th>\n",
       "      <td>8.761376</td>\n",
       "      <td>LiftAvailable</td>\n",
       "    </tr>\n",
       "    <tr>\n",
       "      <th>15</th>\n",
       "      <td>10.142071</td>\n",
       "      <td>ClubHouse</td>\n",
       "    </tr>\n",
       "    <tr>\n",
       "      <th>6</th>\n",
       "      <td>10.885545</td>\n",
       "      <td>SwimmingPool</td>\n",
       "    </tr>\n",
       "    <tr>\n",
       "      <th>5</th>\n",
       "      <td>12.949324</td>\n",
       "      <td>Gymnasium</td>\n",
       "    </tr>\n",
       "    <tr>\n",
       "      <th>2</th>\n",
       "      <td>22.067715</td>\n",
       "      <td>No. of Bedrooms</td>\n",
       "    </tr>\n",
       "    <tr>\n",
       "      <th>1</th>\n",
       "      <td>36.430213</td>\n",
       "      <td>Area</td>\n",
       "    </tr>\n",
       "  </tbody>\n",
       "</table>\n",
       "</div>"
      ],
      "text/plain": [
       "         VIF             Features\n",
       "27  1.451814                 Wifi\n",
       "3   1.665369               Resale\n",
       "37  1.745113             Wardrobe\n",
       "33  1.769352           GolfCourse\n",
       "4   1.810477     MaintenanceStaff\n",
       "25  1.909397        Gasconnection\n",
       "20  1.987606         StaffQuarter\n",
       "30  1.995914                  BED\n",
       "21  2.220652            Cafeteria\n",
       "26  2.261703                   AC\n",
       "32  2.515672            Microwave\n",
       "34  2.632441                   TV\n",
       "14  2.679965                  ATM\n",
       "11  2.729069         ShoppingMall\n",
       "36  3.447805                 Sofa\n",
       "24  3.470008       WashingMachine\n",
       "13  3.602429       SportsFacility\n",
       "22  3.619563     MultipurposeRoom\n",
       "12  4.082138             Intercom\n",
       "35  4.139626          DiningTable\n",
       "16  4.410401               School\n",
       "31  4.419802      VaastuCompliant\n",
       "23  4.605837             Hospital\n",
       "38  4.614201         Refrigerator\n",
       "9   5.190010  RainWaterHarvesting\n",
       "8   5.649805         JoggingTrack\n",
       "10  5.686877          IndoorGames\n",
       "7   6.321045    LandscapedGardens\n",
       "19  7.415429           CarParking\n",
       "28  8.154555   Children'splayarea\n",
       "0   8.213591                Price\n",
       "17  8.508441         24X7Security\n",
       "18  8.653708          PowerBackup\n",
       "29  8.761376        LiftAvailable\n",
       "15 10.142071            ClubHouse\n",
       "6  10.885545         SwimmingPool\n",
       "5  12.949324            Gymnasium\n",
       "2  22.067715      No. of Bedrooms\n",
       "1  36.430213                 Area"
      ]
     },
     "execution_count": 83,
     "metadata": {},
     "output_type": "execute_result"
    }
   ],
   "source": [
    "vif['VIF'] = [VIF(df_num.values,i) for i in range(df_num.shape[1])]\n",
    "vif['Features'] = df_num.columns\n",
    "vif.sort_values(['VIF'],ascending=True)"
   ]
  },
  {
   "cell_type": "markdown",
   "metadata": {},
   "source": [
    "## Feature Engineering"
   ]
  },
  {
   "cell_type": "markdown",
   "metadata": {},
   "source": [
    "### Feature Selection"
   ]
  },
  {
   "cell_type": "code",
   "execution_count": 84,
   "metadata": {},
   "outputs": [],
   "source": [
    "from sklearn.model_selection import train_test_split"
   ]
  },
  {
   "cell_type": "code",
   "execution_count": 85,
   "metadata": {},
   "outputs": [],
   "source": [
    "df_h.set_index('Location', inplace=True)"
   ]
  },
  {
   "cell_type": "code",
   "execution_count": 86,
   "metadata": {},
   "outputs": [],
   "source": [
    "df_h['Area']=ss.fit_transform(np.array(df_h['Area']).reshape(-1,1))\n",
    "\n",
    "df_h['Price']=ss.fit_transform(np.array(df_h['Price']).reshape(-1,1))"
   ]
  },
  {
   "cell_type": "code",
   "execution_count": 87,
   "metadata": {},
   "outputs": [],
   "source": [
    "x = df_h.drop('Price',1)\n",
    "y = df_h['Price']"
   ]
  },
  {
   "cell_type": "code",
   "execution_count": 88,
   "metadata": {},
   "outputs": [],
   "source": [
    "x_train,x_test,y_train,y_test = train_test_split(x,y,test_size=0.3,random_state=100)"
   ]
  },
  {
   "cell_type": "code",
   "execution_count": 89,
   "metadata": {},
   "outputs": [],
   "source": [
    "lr = LinearRegression()"
   ]
  },
  {
   "cell_type": "code",
   "execution_count": 90,
   "metadata": {},
   "outputs": [],
   "source": [
    "from mlxtend.feature_selection import SequentialFeatureSelector as sfs"
   ]
  },
  {
   "cell_type": "code",
   "execution_count": 91,
   "metadata": {},
   "outputs": [],
   "source": [
    "bwd = sfs(estimator = lr,k_features='best',forward=False,cv=5,scoring='r2')"
   ]
  },
  {
   "cell_type": "code",
   "execution_count": 92,
   "metadata": {},
   "outputs": [],
   "source": [
    "bwd_mod = bwd.fit(x_train,y_train)"
   ]
  },
  {
   "cell_type": "code",
   "execution_count": 93,
   "metadata": {},
   "outputs": [
    {
     "data": {
      "text/plain": [
       "['Area',\n",
       " 'No. of Bedrooms',\n",
       " 'Resale',\n",
       " 'MaintenanceStaff',\n",
       " 'Gymnasium',\n",
       " 'SwimmingPool',\n",
       " 'RainWaterHarvesting',\n",
       " 'IndoorGames',\n",
       " 'SportsFacility',\n",
       " 'ATM',\n",
       " 'ClubHouse',\n",
       " '24X7Security',\n",
       " 'PowerBackup',\n",
       " 'CarParking',\n",
       " 'Cafeteria',\n",
       " 'WashingMachine',\n",
       " 'Gasconnection',\n",
       " 'BED',\n",
       " 'Microwave',\n",
       " 'GolfCourse',\n",
       " 'TV',\n",
       " 'Refrigerator']"
      ]
     },
     "execution_count": 93,
     "metadata": {},
     "output_type": "execute_result"
    }
   ],
   "source": [
    "bwd_names = bwd_mod.k_feature_names_\n",
    "bwd_feat = list(bwd_names)\n",
    "bwd_feat"
   ]
  },
  {
   "cell_type": "markdown",
   "metadata": {},
   "source": [
    "# Assumptions"
   ]
  },
  {
   "cell_type": "markdown",
   "metadata": {},
   "source": [
    "### Regression"
   ]
  },
  {
   "cell_type": "code",
   "execution_count": 94,
   "metadata": {},
   "outputs": [],
   "source": [
    "x = df_h[['Area',\n",
    " 'No. of Bedrooms',\n",
    " 'Resale',\n",
    " 'MaintenanceStaff',\n",
    " 'Gymnasium',\n",
    " 'SwimmingPool',\n",
    " 'RainWaterHarvesting',\n",
    " 'IndoorGames',\n",
    " 'SportsFacility',\n",
    " 'ATM',\n",
    " 'ClubHouse',\n",
    " '24X7Security',\n",
    " 'PowerBackup',\n",
    " 'CarParking',\n",
    " 'Cafeteria',\n",
    " 'WashingMachine',\n",
    " 'Gasconnection',\n",
    " 'BED',\n",
    " 'Microwave',\n",
    " 'GolfCourse',\n",
    " 'TV',\n",
    " 'Refrigerator']]\n",
    "y = df_h['Price']"
   ]
  },
  {
   "cell_type": "code",
   "execution_count": 95,
   "metadata": {},
   "outputs": [
    {
     "data": {
      "text/html": [
       "<table class=\"simpletable\">\n",
       "<caption>OLS Regression Results</caption>\n",
       "<tr>\n",
       "  <th>Dep. Variable:</th>          <td>Price</td>      <th>  R-squared:         </th> <td>   0.738</td>\n",
       "</tr>\n",
       "<tr>\n",
       "  <th>Model:</th>                   <td>OLS</td>       <th>  Adj. R-squared:    </th> <td>   0.736</td>\n",
       "</tr>\n",
       "<tr>\n",
       "  <th>Method:</th>             <td>Least Squares</td>  <th>  F-statistic:       </th> <td>   308.9</td>\n",
       "</tr>\n",
       "<tr>\n",
       "  <th>Date:</th>             <td>Thu, 09 Sep 2021</td> <th>  Prob (F-statistic):</th>  <td>  0.00</td> \n",
       "</tr>\n",
       "<tr>\n",
       "  <th>Time:</th>                 <td>18:34:52</td>     <th>  Log-Likelihood:    </th> <td> -1823.1</td>\n",
       "</tr>\n",
       "<tr>\n",
       "  <th>No. Observations:</th>      <td>  2434</td>      <th>  AIC:               </th> <td>   3692.</td>\n",
       "</tr>\n",
       "<tr>\n",
       "  <th>Df Residuals:</th>          <td>  2411</td>      <th>  BIC:               </th> <td>   3826.</td>\n",
       "</tr>\n",
       "<tr>\n",
       "  <th>Df Model:</th>              <td>    22</td>      <th>                     </th>     <td> </td>   \n",
       "</tr>\n",
       "<tr>\n",
       "  <th>Covariance Type:</th>      <td>nonrobust</td>    <th>                     </th>     <td> </td>   \n",
       "</tr>\n",
       "</table>\n",
       "<table class=\"simpletable\">\n",
       "<tr>\n",
       "           <td></td>              <th>coef</th>     <th>std err</th>      <th>t</th>      <th>P>|t|</th>  <th>[0.025</th>    <th>0.975]</th>  \n",
       "</tr>\n",
       "<tr>\n",
       "  <th>const</th>               <td>    0.3950</td> <td>    0.069</td> <td>    5.712</td> <td> 0.000</td> <td>    0.259</td> <td>    0.531</td>\n",
       "</tr>\n",
       "<tr>\n",
       "  <th>Area</th>                <td>    0.9190</td> <td>    0.018</td> <td>   51.674</td> <td> 0.000</td> <td>    0.884</td> <td>    0.954</td>\n",
       "</tr>\n",
       "<tr>\n",
       "  <th>No. of Bedrooms</th>     <td>   -0.1849</td> <td>    0.025</td> <td>   -7.267</td> <td> 0.000</td> <td>   -0.235</td> <td>   -0.135</td>\n",
       "</tr>\n",
       "<tr>\n",
       "  <th>Resale</th>              <td>    0.1519</td> <td>    0.027</td> <td>    5.573</td> <td> 0.000</td> <td>    0.098</td> <td>    0.205</td>\n",
       "</tr>\n",
       "<tr>\n",
       "  <th>MaintenanceStaff</th>    <td>   -0.1288</td> <td>    0.038</td> <td>   -3.365</td> <td> 0.001</td> <td>   -0.204</td> <td>   -0.054</td>\n",
       "</tr>\n",
       "<tr>\n",
       "  <th>Gymnasium</th>           <td>   -0.0974</td> <td>    0.052</td> <td>   -1.891</td> <td> 0.059</td> <td>   -0.198</td> <td>    0.004</td>\n",
       "</tr>\n",
       "<tr>\n",
       "  <th>SwimmingPool</th>        <td>    0.1002</td> <td>    0.051</td> <td>    1.952</td> <td> 0.051</td> <td>   -0.000</td> <td>    0.201</td>\n",
       "</tr>\n",
       "<tr>\n",
       "  <th>RainWaterHarvesting</th> <td>   -0.0646</td> <td>    0.039</td> <td>   -1.673</td> <td> 0.094</td> <td>   -0.140</td> <td>    0.011</td>\n",
       "</tr>\n",
       "<tr>\n",
       "  <th>IndoorGames</th>         <td>    0.1366</td> <td>    0.041</td> <td>    3.337</td> <td> 0.001</td> <td>    0.056</td> <td>    0.217</td>\n",
       "</tr>\n",
       "<tr>\n",
       "  <th>SportsFacility</th>      <td>   -0.0748</td> <td>    0.037</td> <td>   -2.026</td> <td> 0.043</td> <td>   -0.147</td> <td>   -0.002</td>\n",
       "</tr>\n",
       "<tr>\n",
       "  <th>ATM</th>                 <td>    0.0827</td> <td>    0.039</td> <td>    2.115</td> <td> 0.035</td> <td>    0.006</td> <td>    0.159</td>\n",
       "</tr>\n",
       "<tr>\n",
       "  <th>ClubHouse</th>           <td>    0.0862</td> <td>    0.047</td> <td>    1.842</td> <td> 0.066</td> <td>   -0.006</td> <td>    0.178</td>\n",
       "</tr>\n",
       "<tr>\n",
       "  <th>24X7Security</th>        <td>   -0.0970</td> <td>    0.045</td> <td>   -2.151</td> <td> 0.032</td> <td>   -0.185</td> <td>   -0.009</td>\n",
       "</tr>\n",
       "<tr>\n",
       "  <th>PowerBackup</th>         <td>    0.0438</td> <td>    0.029</td> <td>    1.500</td> <td> 0.134</td> <td>   -0.013</td> <td>    0.101</td>\n",
       "</tr>\n",
       "<tr>\n",
       "  <th>CarParking</th>          <td>    0.0501</td> <td>    0.039</td> <td>    1.298</td> <td> 0.194</td> <td>   -0.026</td> <td>    0.126</td>\n",
       "</tr>\n",
       "<tr>\n",
       "  <th>Cafeteria</th>           <td>    0.1021</td> <td>    0.042</td> <td>    2.411</td> <td> 0.016</td> <td>    0.019</td> <td>    0.185</td>\n",
       "</tr>\n",
       "<tr>\n",
       "  <th>WashingMachine</th>      <td>    0.0313</td> <td>    0.127</td> <td>    0.246</td> <td> 0.806</td> <td>   -0.219</td> <td>    0.281</td>\n",
       "</tr>\n",
       "<tr>\n",
       "  <th>Gasconnection</th>       <td>    0.0838</td> <td>    0.047</td> <td>    1.782</td> <td> 0.075</td> <td>   -0.008</td> <td>    0.176</td>\n",
       "</tr>\n",
       "<tr>\n",
       "  <th>BED</th>                 <td>    0.0717</td> <td>    0.056</td> <td>    1.270</td> <td> 0.204</td> <td>   -0.039</td> <td>    0.182</td>\n",
       "</tr>\n",
       "<tr>\n",
       "  <th>Microwave</th>           <td>   -0.1887</td> <td>    0.078</td> <td>   -2.433</td> <td> 0.015</td> <td>   -0.341</td> <td>   -0.037</td>\n",
       "</tr>\n",
       "<tr>\n",
       "  <th>GolfCourse</th>          <td>   -0.1659</td> <td>    0.070</td> <td>   -2.356</td> <td> 0.019</td> <td>   -0.304</td> <td>   -0.028</td>\n",
       "</tr>\n",
       "<tr>\n",
       "  <th>TV</th>                  <td>    0.2334</td> <td>    0.103</td> <td>    2.263</td> <td> 0.024</td> <td>    0.031</td> <td>    0.436</td>\n",
       "</tr>\n",
       "<tr>\n",
       "  <th>Refrigerator</th>        <td>    0.0114</td> <td>    0.122</td> <td>    0.093</td> <td> 0.926</td> <td>   -0.227</td> <td>    0.250</td>\n",
       "</tr>\n",
       "</table>\n",
       "<table class=\"simpletable\">\n",
       "<tr>\n",
       "  <th>Omnibus:</th>       <td>4514.143</td> <th>  Durbin-Watson:     </th>   <td>   1.802</td>  \n",
       "</tr>\n",
       "<tr>\n",
       "  <th>Prob(Omnibus):</th>  <td> 0.000</td>  <th>  Jarque-Bera (JB):  </th> <td>18509917.452</td>\n",
       "</tr>\n",
       "<tr>\n",
       "  <th>Skew:</th>           <td>13.071</td>  <th>  Prob(JB):          </th>   <td>    0.00</td>  \n",
       "</tr>\n",
       "<tr>\n",
       "  <th>Kurtosis:</th>       <td>429.416</td> <th>  Cond. No.          </th>   <td>    48.5</td>  \n",
       "</tr>\n",
       "</table><br/><br/>Notes:<br/>[1] Standard Errors assume that the covariance matrix of the errors is correctly specified."
      ],
      "text/plain": [
       "<class 'statsmodels.iolib.summary.Summary'>\n",
       "\"\"\"\n",
       "                            OLS Regression Results                            \n",
       "==============================================================================\n",
       "Dep. Variable:                  Price   R-squared:                       0.738\n",
       "Model:                            OLS   Adj. R-squared:                  0.736\n",
       "Method:                 Least Squares   F-statistic:                     308.9\n",
       "Date:                Thu, 09 Sep 2021   Prob (F-statistic):               0.00\n",
       "Time:                        18:34:52   Log-Likelihood:                -1823.1\n",
       "No. Observations:                2434   AIC:                             3692.\n",
       "Df Residuals:                    2411   BIC:                             3826.\n",
       "Df Model:                          22                                         \n",
       "Covariance Type:            nonrobust                                         \n",
       "=======================================================================================\n",
       "                          coef    std err          t      P>|t|      [0.025      0.975]\n",
       "---------------------------------------------------------------------------------------\n",
       "const                   0.3950      0.069      5.712      0.000       0.259       0.531\n",
       "Area                    0.9190      0.018     51.674      0.000       0.884       0.954\n",
       "No. of Bedrooms        -0.1849      0.025     -7.267      0.000      -0.235      -0.135\n",
       "Resale                  0.1519      0.027      5.573      0.000       0.098       0.205\n",
       "MaintenanceStaff       -0.1288      0.038     -3.365      0.001      -0.204      -0.054\n",
       "Gymnasium              -0.0974      0.052     -1.891      0.059      -0.198       0.004\n",
       "SwimmingPool            0.1002      0.051      1.952      0.051      -0.000       0.201\n",
       "RainWaterHarvesting    -0.0646      0.039     -1.673      0.094      -0.140       0.011\n",
       "IndoorGames             0.1366      0.041      3.337      0.001       0.056       0.217\n",
       "SportsFacility         -0.0748      0.037     -2.026      0.043      -0.147      -0.002\n",
       "ATM                     0.0827      0.039      2.115      0.035       0.006       0.159\n",
       "ClubHouse               0.0862      0.047      1.842      0.066      -0.006       0.178\n",
       "24X7Security           -0.0970      0.045     -2.151      0.032      -0.185      -0.009\n",
       "PowerBackup             0.0438      0.029      1.500      0.134      -0.013       0.101\n",
       "CarParking              0.0501      0.039      1.298      0.194      -0.026       0.126\n",
       "Cafeteria               0.1021      0.042      2.411      0.016       0.019       0.185\n",
       "WashingMachine          0.0313      0.127      0.246      0.806      -0.219       0.281\n",
       "Gasconnection           0.0838      0.047      1.782      0.075      -0.008       0.176\n",
       "BED                     0.0717      0.056      1.270      0.204      -0.039       0.182\n",
       "Microwave              -0.1887      0.078     -2.433      0.015      -0.341      -0.037\n",
       "GolfCourse             -0.1659      0.070     -2.356      0.019      -0.304      -0.028\n",
       "TV                      0.2334      0.103      2.263      0.024       0.031       0.436\n",
       "Refrigerator            0.0114      0.122      0.093      0.926      -0.227       0.250\n",
       "==============================================================================\n",
       "Omnibus:                     4514.143   Durbin-Watson:                   1.802\n",
       "Prob(Omnibus):                  0.000   Jarque-Bera (JB):         18509917.452\n",
       "Skew:                          13.071   Prob(JB):                         0.00\n",
       "Kurtosis:                     429.416   Cond. No.                         48.5\n",
       "==============================================================================\n",
       "\n",
       "Notes:\n",
       "[1] Standard Errors assume that the covariance matrix of the errors is correctly specified.\n",
       "\"\"\""
      ]
     },
     "execution_count": 95,
     "metadata": {},
     "output_type": "execute_result"
    }
   ],
   "source": [
    "xc = sm.add_constant(x)\n",
    "ols_c = sm.OLS(y,xc).fit()\n",
    "ols_c.summary()"
   ]
  },
  {
   "cell_type": "code",
   "execution_count": 96,
   "metadata": {},
   "outputs": [
    {
     "name": "stdout",
     "output_type": "stream",
     "text": [
      "The Accuracy of the above HYDERABAD DATASET using OLS method iS: 0.7381092977870087\n"
     ]
    }
   ],
   "source": [
    "print('The Accuracy of the above HYDERABAD DATASET using OLS method iS:',ols_c.rsquared)"
   ]
  },
  {
   "cell_type": "markdown",
   "metadata": {},
   "source": [
    "# FINAL MODEL BUILDING"
   ]
  },
  {
   "cell_type": "markdown",
   "metadata": {},
   "source": [
    "# Hyperparameter tuning"
   ]
  },
  {
   "cell_type": "code",
   "execution_count": 97,
   "metadata": {},
   "outputs": [],
   "source": [
    "from sklearn.model_selection import GridSearchCV\n",
    "\n",
    "from sklearn.linear_model import Lasso,Ridge,ElasticNet\n",
    "from sklearn.metrics import r2_score,mean_squared_error"
   ]
  },
  {
   "cell_type": "code",
   "execution_count": 98,
   "metadata": {},
   "outputs": [],
   "source": [
    "from sklearn.model_selection import GridSearchCV"
   ]
  },
  {
   "cell_type": "code",
   "execution_count": 99,
   "metadata": {},
   "outputs": [],
   "source": [
    "def build_model(instance):\n",
    "    model=instance.fit(xtrain,y_train)\n",
    "    print(\"Train R2:\",model.score(xtrain,y_train))\n",
    "    print(\"Test R2:\",model.score(xtest,y_test))\n",
    "    print(\"Train RMSE:\",np.sqrt(mean_squared_error(y_train,model.predict(xtrain))))\n",
    "    print(\"Test RMSE:\",np.sqrt(mean_squared_error(y_test,model.predict(xtest))))"
   ]
  },
  {
   "cell_type": "markdown",
   "metadata": {},
   "source": [
    "### LASSO"
   ]
  },
  {
   "cell_type": "code",
   "execution_count": 100,
   "metadata": {},
   "outputs": [
    {
     "data": {
      "text/plain": [
       "GridSearchCV(cv=5, estimator=Lasso(normalize=True),\n",
       "             param_grid={'alpha': [0.01, 0.02, 0.1, 0.88, 0.9, 0.95, 0.99,\n",
       "                                   1e-05, 2e-05, 5e-05]},\n",
       "             scoring='r2')"
      ]
     },
     "execution_count": 100,
     "metadata": {},
     "output_type": "execute_result"
    }
   ],
   "source": [
    "param = {'alpha':[0.01,0.02,0.1,0.88,0.9,0.95,0.99,0.00001,0.00002,0.00005]}\n",
    "l = Lasso(normalize=True)\n",
    "\n",
    "lassocv = GridSearchCV(l,param,cv=5,scoring='r2')\n",
    "lassocv.fit(x_train,y_train)"
   ]
  },
  {
   "cell_type": "code",
   "execution_count": 101,
   "metadata": {},
   "outputs": [
    {
     "data": {
      "text/plain": [
       "{'alpha': 2e-05}"
      ]
     },
     "execution_count": 101,
     "metadata": {},
     "output_type": "execute_result"
    }
   ],
   "source": [
    "lassocv.best_params_"
   ]
  },
  {
   "cell_type": "code",
   "execution_count": 102,
   "metadata": {},
   "outputs": [],
   "source": [
    "xtrain=x_train\n",
    "ytrain=y_train\n",
    "xtest=x_test\n",
    "ytest=y_test"
   ]
  },
  {
   "cell_type": "code",
   "execution_count": 103,
   "metadata": {},
   "outputs": [
    {
     "name": "stdout",
     "output_type": "stream",
     "text": [
      "Train R2: 0.833529904022327\n",
      "Test R2: 0.6103371170857217\n",
      "Train RMSE: 0.36663452840825417\n",
      "Test RMSE: 0.7497093400314876\n"
     ]
    }
   ],
   "source": [
    "lasso001 = Lasso(alpha=0.00002,normalize=True)\n",
    "\n",
    "build_model(lasso001)"
   ]
  },
  {
   "cell_type": "markdown",
   "metadata": {},
   "source": [
    "# ENET"
   ]
  },
  {
   "cell_type": "code",
   "execution_count": 104,
   "metadata": {},
   "outputs": [
    {
     "data": {
      "text/plain": [
       "{'alpha': 5e-05, 'l1_ratio': 0.9}"
      ]
     },
     "execution_count": 104,
     "metadata": {},
     "output_type": "execute_result"
    }
   ],
   "source": [
    "from sklearn.model_selection import GridSearchCV\n",
    "\n",
    "param = {'alpha':[0.01,0.02,0.001,0.0005,0.0006,0.00005],\n",
    "        'l1_ratio':[0.3,0.4,0.6,0.8,0.9]}\n",
    "enet = ElasticNet(normalize=True)\n",
    "\n",
    "enetcv = GridSearchCV(enet,param,cv=5,scoring='r2')\n",
    "enetcv.fit(xtrain,ytrain)\n",
    "enetcv.best_params_"
   ]
  },
  {
   "cell_type": "code",
   "execution_count": 105,
   "metadata": {},
   "outputs": [],
   "source": [
    "enetmod = ElasticNet(alpha= 5e-05,l1_ratio= 0.9)"
   ]
  },
  {
   "cell_type": "code",
   "execution_count": 106,
   "metadata": {},
   "outputs": [
    {
     "name": "stdout",
     "output_type": "stream",
     "text": [
      "Train R2: 0.8336487808445368\n",
      "Test R2: 0.6101489410314677\n",
      "Train RMSE: 0.3665035975912112\n",
      "Test RMSE: 0.7498903430516213\n"
     ]
    }
   ],
   "source": [
    "build_model(enetmod)"
   ]
  },
  {
   "cell_type": "markdown",
   "metadata": {},
   "source": [
    "### RIDGE"
   ]
  },
  {
   "cell_type": "code",
   "execution_count": 107,
   "metadata": {},
   "outputs": [],
   "source": [
    "rd = Ridge()"
   ]
  },
  {
   "cell_type": "code",
   "execution_count": 108,
   "metadata": {},
   "outputs": [],
   "source": [
    "param = {'alpha':[0.01,0.02,0.1,0.001]}"
   ]
  },
  {
   "cell_type": "code",
   "execution_count": 109,
   "metadata": {},
   "outputs": [
    {
     "data": {
      "text/plain": [
       "{'alpha': 0.099}"
      ]
     },
     "execution_count": 109,
     "metadata": {},
     "output_type": "execute_result"
    }
   ],
   "source": [
    "from sklearn.model_selection import GridSearchCV\n",
    "\n",
    "param = {'alpha':[0.01,0.02,0.098,0.099,0.01,0.0005,0.0001,0.00005]}\n",
    "         \n",
    "         \n",
    "rdmod = GridSearchCV(rd,param,cv=5,scoring='r2')\n",
    "rdmod.fit(xtrain,ytrain)\n",
    "rdmod.best_params_"
   ]
  },
  {
   "cell_type": "code",
   "execution_count": 110,
   "metadata": {},
   "outputs": [],
   "source": [
    "rdmodel3 = Ridge(alpha= 0.099)"
   ]
  },
  {
   "cell_type": "code",
   "execution_count": 111,
   "metadata": {
    "scrolled": true
   },
   "outputs": [
    {
     "name": "stdout",
     "output_type": "stream",
     "text": [
      "Train R2: 0.8336530033741816\n",
      "Test R2: 0.6100726320303733\n",
      "Train RMSE: 0.366498946040912\n",
      "Test RMSE: 0.7499637308002965\n"
     ]
    }
   ],
   "source": [
    "build_model(rdmodel3)"
   ]
  },
  {
   "cell_type": "markdown",
   "metadata": {},
   "source": [
    "# DELHI"
   ]
  },
  {
   "cell_type": "markdown",
   "metadata": {},
   "source": [
    "## BASIC MODEL BUILDING"
   ]
  },
  {
   "cell_type": "code",
   "execution_count": 112,
   "metadata": {},
   "outputs": [],
   "source": [
    "df_d = pd.read_csv('Delhi.csv')"
   ]
  },
  {
   "cell_type": "code",
   "execution_count": 113,
   "metadata": {},
   "outputs": [],
   "source": [
    "df_d = df_d.replace(9,np.nan)"
   ]
  },
  {
   "cell_type": "code",
   "execution_count": 114,
   "metadata": {},
   "outputs": [
    {
     "data": {
      "text/plain": [
       "(4998, 40)"
      ]
     },
     "execution_count": 114,
     "metadata": {},
     "output_type": "execute_result"
    }
   ],
   "source": [
    "df_d.shape"
   ]
  },
  {
   "cell_type": "code",
   "execution_count": 115,
   "metadata": {},
   "outputs": [],
   "source": [
    "df_d= df_d.dropna(axis=0)"
   ]
  },
  {
   "cell_type": "code",
   "execution_count": 116,
   "metadata": {},
   "outputs": [],
   "source": [
    "df_num = df_d.select_dtypes(include=np.number)"
   ]
  },
  {
   "cell_type": "code",
   "execution_count": 117,
   "metadata": {},
   "outputs": [],
   "source": [
    "vif = pd.DataFrame()"
   ]
  },
  {
   "cell_type": "code",
   "execution_count": 118,
   "metadata": {
    "scrolled": true
   },
   "outputs": [
    {
     "data": {
      "text/html": [
       "<div>\n",
       "<style scoped>\n",
       "    .dataframe tbody tr th:only-of-type {\n",
       "        vertical-align: middle;\n",
       "    }\n",
       "\n",
       "    .dataframe tbody tr th {\n",
       "        vertical-align: top;\n",
       "    }\n",
       "\n",
       "    .dataframe thead th {\n",
       "        text-align: right;\n",
       "    }\n",
       "</style>\n",
       "<table border=\"1\" class=\"dataframe\">\n",
       "  <thead>\n",
       "    <tr style=\"text-align: right;\">\n",
       "      <th></th>\n",
       "      <th>VIF</th>\n",
       "      <th>Features</th>\n",
       "    </tr>\n",
       "  </thead>\n",
       "  <tbody>\n",
       "    <tr>\n",
       "      <th>1</th>\n",
       "      <td>28.127606</td>\n",
       "      <td>Area</td>\n",
       "    </tr>\n",
       "    <tr>\n",
       "      <th>16</th>\n",
       "      <td>19.834316</td>\n",
       "      <td>School</td>\n",
       "    </tr>\n",
       "    <tr>\n",
       "      <th>23</th>\n",
       "      <td>19.110647</td>\n",
       "      <td>Hospital</td>\n",
       "    </tr>\n",
       "    <tr>\n",
       "      <th>2</th>\n",
       "      <td>15.920423</td>\n",
       "      <td>No. of Bedrooms</td>\n",
       "    </tr>\n",
       "    <tr>\n",
       "      <th>35</th>\n",
       "      <td>9.913117</td>\n",
       "      <td>DiningTable</td>\n",
       "    </tr>\n",
       "    <tr>\n",
       "      <th>36</th>\n",
       "      <td>8.930239</td>\n",
       "      <td>Sofa</td>\n",
       "    </tr>\n",
       "    <tr>\n",
       "      <th>24</th>\n",
       "      <td>8.874244</td>\n",
       "      <td>WashingMachine</td>\n",
       "    </tr>\n",
       "    <tr>\n",
       "      <th>0</th>\n",
       "      <td>8.231133</td>\n",
       "      <td>Price</td>\n",
       "    </tr>\n",
       "    <tr>\n",
       "      <th>38</th>\n",
       "      <td>7.229285</td>\n",
       "      <td>Refrigerator</td>\n",
       "    </tr>\n",
       "    <tr>\n",
       "      <th>8</th>\n",
       "      <td>5.972926</td>\n",
       "      <td>JoggingTrack</td>\n",
       "    </tr>\n",
       "    <tr>\n",
       "      <th>30</th>\n",
       "      <td>5.867939</td>\n",
       "      <td>BED</td>\n",
       "    </tr>\n",
       "    <tr>\n",
       "      <th>17</th>\n",
       "      <td>5.553812</td>\n",
       "      <td>24X7Security</td>\n",
       "    </tr>\n",
       "    <tr>\n",
       "      <th>34</th>\n",
       "      <td>5.265660</td>\n",
       "      <td>TV</td>\n",
       "    </tr>\n",
       "    <tr>\n",
       "      <th>9</th>\n",
       "      <td>5.158601</td>\n",
       "      <td>RainWaterHarvesting</td>\n",
       "    </tr>\n",
       "    <tr>\n",
       "      <th>3</th>\n",
       "      <td>4.851037</td>\n",
       "      <td>Resale</td>\n",
       "    </tr>\n",
       "    <tr>\n",
       "      <th>28</th>\n",
       "      <td>4.353583</td>\n",
       "      <td>Children'splayarea</td>\n",
       "    </tr>\n",
       "    <tr>\n",
       "      <th>25</th>\n",
       "      <td>4.205320</td>\n",
       "      <td>Gasconnection</td>\n",
       "    </tr>\n",
       "    <tr>\n",
       "      <th>20</th>\n",
       "      <td>4.133100</td>\n",
       "      <td>StaffQuarter</td>\n",
       "    </tr>\n",
       "    <tr>\n",
       "      <th>29</th>\n",
       "      <td>3.738671</td>\n",
       "      <td>LiftAvailable</td>\n",
       "    </tr>\n",
       "    <tr>\n",
       "      <th>18</th>\n",
       "      <td>3.710481</td>\n",
       "      <td>PowerBackup</td>\n",
       "    </tr>\n",
       "    <tr>\n",
       "      <th>12</th>\n",
       "      <td>3.334087</td>\n",
       "      <td>Intercom</td>\n",
       "    </tr>\n",
       "    <tr>\n",
       "      <th>13</th>\n",
       "      <td>3.205622</td>\n",
       "      <td>SportsFacility</td>\n",
       "    </tr>\n",
       "    <tr>\n",
       "      <th>32</th>\n",
       "      <td>3.177593</td>\n",
       "      <td>Microwave</td>\n",
       "    </tr>\n",
       "    <tr>\n",
       "      <th>7</th>\n",
       "      <td>3.010328</td>\n",
       "      <td>LandscapedGardens</td>\n",
       "    </tr>\n",
       "    <tr>\n",
       "      <th>14</th>\n",
       "      <td>2.959843</td>\n",
       "      <td>ATM</td>\n",
       "    </tr>\n",
       "    <tr>\n",
       "      <th>11</th>\n",
       "      <td>2.932716</td>\n",
       "      <td>ShoppingMall</td>\n",
       "    </tr>\n",
       "    <tr>\n",
       "      <th>15</th>\n",
       "      <td>2.908803</td>\n",
       "      <td>ClubHouse</td>\n",
       "    </tr>\n",
       "    <tr>\n",
       "      <th>5</th>\n",
       "      <td>2.538192</td>\n",
       "      <td>Gymnasium</td>\n",
       "    </tr>\n",
       "    <tr>\n",
       "      <th>26</th>\n",
       "      <td>2.323280</td>\n",
       "      <td>AC</td>\n",
       "    </tr>\n",
       "    <tr>\n",
       "      <th>19</th>\n",
       "      <td>2.221649</td>\n",
       "      <td>CarParking</td>\n",
       "    </tr>\n",
       "    <tr>\n",
       "      <th>6</th>\n",
       "      <td>1.986955</td>\n",
       "      <td>SwimmingPool</td>\n",
       "    </tr>\n",
       "    <tr>\n",
       "      <th>4</th>\n",
       "      <td>1.956643</td>\n",
       "      <td>MaintenanceStaff</td>\n",
       "    </tr>\n",
       "    <tr>\n",
       "      <th>22</th>\n",
       "      <td>1.767971</td>\n",
       "      <td>MultipurposeRoom</td>\n",
       "    </tr>\n",
       "    <tr>\n",
       "      <th>31</th>\n",
       "      <td>1.733873</td>\n",
       "      <td>VaastuCompliant</td>\n",
       "    </tr>\n",
       "    <tr>\n",
       "      <th>21</th>\n",
       "      <td>1.731471</td>\n",
       "      <td>Cafeteria</td>\n",
       "    </tr>\n",
       "    <tr>\n",
       "      <th>10</th>\n",
       "      <td>1.689575</td>\n",
       "      <td>IndoorGames</td>\n",
       "    </tr>\n",
       "    <tr>\n",
       "      <th>27</th>\n",
       "      <td>NaN</td>\n",
       "      <td>Wifi</td>\n",
       "    </tr>\n",
       "    <tr>\n",
       "      <th>33</th>\n",
       "      <td>NaN</td>\n",
       "      <td>GolfCourse</td>\n",
       "    </tr>\n",
       "    <tr>\n",
       "      <th>37</th>\n",
       "      <td>NaN</td>\n",
       "      <td>Wardrobe</td>\n",
       "    </tr>\n",
       "  </tbody>\n",
       "</table>\n",
       "</div>"
      ],
      "text/plain": [
       "         VIF             Features\n",
       "1  28.127606                 Area\n",
       "16 19.834316               School\n",
       "23 19.110647             Hospital\n",
       "2  15.920423      No. of Bedrooms\n",
       "35  9.913117          DiningTable\n",
       "36  8.930239                 Sofa\n",
       "24  8.874244       WashingMachine\n",
       "0   8.231133                Price\n",
       "38  7.229285         Refrigerator\n",
       "8   5.972926         JoggingTrack\n",
       "30  5.867939                  BED\n",
       "17  5.553812         24X7Security\n",
       "34  5.265660                   TV\n",
       "9   5.158601  RainWaterHarvesting\n",
       "3   4.851037               Resale\n",
       "28  4.353583   Children'splayarea\n",
       "25  4.205320        Gasconnection\n",
       "20  4.133100         StaffQuarter\n",
       "29  3.738671        LiftAvailable\n",
       "18  3.710481          PowerBackup\n",
       "12  3.334087             Intercom\n",
       "13  3.205622       SportsFacility\n",
       "32  3.177593            Microwave\n",
       "7   3.010328    LandscapedGardens\n",
       "14  2.959843                  ATM\n",
       "11  2.932716         ShoppingMall\n",
       "15  2.908803            ClubHouse\n",
       "5   2.538192            Gymnasium\n",
       "26  2.323280                   AC\n",
       "19  2.221649           CarParking\n",
       "6   1.986955         SwimmingPool\n",
       "4   1.956643     MaintenanceStaff\n",
       "22  1.767971     MultipurposeRoom\n",
       "31  1.733873      VaastuCompliant\n",
       "21  1.731471            Cafeteria\n",
       "10  1.689575          IndoorGames\n",
       "27       NaN                 Wifi\n",
       "33       NaN           GolfCourse\n",
       "37       NaN             Wardrobe"
      ]
     },
     "execution_count": 118,
     "metadata": {},
     "output_type": "execute_result"
    }
   ],
   "source": [
    "vif['VIF'] = [VIF(df_num.values,i) for i in range(df_num.shape[1])]\n",
    "vif['Features'] = df_num.columns\n",
    "vif.sort_values(['VIF'],ascending=False)"
   ]
  },
  {
   "cell_type": "markdown",
   "metadata": {},
   "source": [
    "## Feature Engineering"
   ]
  },
  {
   "cell_type": "markdown",
   "metadata": {},
   "source": [
    "### Feature Selection"
   ]
  },
  {
   "cell_type": "code",
   "execution_count": 119,
   "metadata": {},
   "outputs": [],
   "source": [
    "from sklearn.model_selection import train_test_split"
   ]
  },
  {
   "cell_type": "code",
   "execution_count": 120,
   "metadata": {},
   "outputs": [],
   "source": [
    "df_d.set_index('Location', inplace=True)"
   ]
  },
  {
   "cell_type": "code",
   "execution_count": 121,
   "metadata": {},
   "outputs": [],
   "source": [
    "df_d['Area']=ss.fit_transform(np.array(df_d['Area']).reshape(-1,1))\n",
    "\n",
    "df_d['Price']=ss.fit_transform(np.array(df_d['Price']).reshape(-1,1))"
   ]
  },
  {
   "cell_type": "code",
   "execution_count": 122,
   "metadata": {},
   "outputs": [],
   "source": [
    "x = df_d.drop('Price',1)\n",
    "y = df_d['Price']"
   ]
  },
  {
   "cell_type": "code",
   "execution_count": 123,
   "metadata": {},
   "outputs": [],
   "source": [
    "x_train,x_test,y_train,y_test = train_test_split(x,y,test_size=0.3,random_state=100)"
   ]
  },
  {
   "cell_type": "code",
   "execution_count": 124,
   "metadata": {},
   "outputs": [],
   "source": [
    "lr = LinearRegression()"
   ]
  },
  {
   "cell_type": "code",
   "execution_count": 125,
   "metadata": {},
   "outputs": [],
   "source": [
    "from mlxtend.feature_selection import SequentialFeatureSelector as sfs"
   ]
  },
  {
   "cell_type": "code",
   "execution_count": 126,
   "metadata": {},
   "outputs": [],
   "source": [
    "bwd = sfs(estimator = lr,k_features='best',forward=False,cv=5,scoring='r2')"
   ]
  },
  {
   "cell_type": "code",
   "execution_count": 127,
   "metadata": {},
   "outputs": [],
   "source": [
    "bwd_mod = bwd.fit(x_train,y_train)"
   ]
  },
  {
   "cell_type": "code",
   "execution_count": 128,
   "metadata": {},
   "outputs": [
    {
     "data": {
      "text/plain": [
       "['Area',\n",
       " 'Resale',\n",
       " 'JoggingTrack',\n",
       " 'RainWaterHarvesting',\n",
       " 'IndoorGames',\n",
       " 'Intercom',\n",
       " 'School',\n",
       " '24X7Security',\n",
       " 'CarParking',\n",
       " 'StaffQuarter',\n",
       " 'Cafeteria',\n",
       " 'MultipurposeRoom',\n",
       " 'Hospital',\n",
       " 'WashingMachine',\n",
       " 'Gasconnection',\n",
       " 'AC',\n",
       " 'LiftAvailable',\n",
       " 'BED',\n",
       " 'VaastuCompliant',\n",
       " 'Microwave',\n",
       " 'DiningTable',\n",
       " 'Refrigerator']"
      ]
     },
     "execution_count": 128,
     "metadata": {},
     "output_type": "execute_result"
    }
   ],
   "source": [
    "bwd_names = bwd_mod.k_feature_names_\n",
    "bwd_feat = list(bwd_names)\n",
    "bwd_feat"
   ]
  },
  {
   "cell_type": "markdown",
   "metadata": {},
   "source": [
    "# Assumptions"
   ]
  },
  {
   "cell_type": "markdown",
   "metadata": {},
   "source": [
    "### Regression"
   ]
  },
  {
   "cell_type": "code",
   "execution_count": 129,
   "metadata": {},
   "outputs": [],
   "source": [
    "x = df_d[['Area',\n",
    " 'Resale',\n",
    " 'JoggingTrack',\n",
    " 'RainWaterHarvesting',\n",
    " 'IndoorGames',\n",
    " 'Intercom',\n",
    " 'School',\n",
    " '24X7Security',\n",
    " 'CarParking',\n",
    " 'StaffQuarter',\n",
    " 'Cafeteria',\n",
    " 'MultipurposeRoom',\n",
    " 'Hospital',\n",
    " 'WashingMachine',\n",
    " 'Gasconnection',\n",
    " 'AC',\n",
    " 'LiftAvailable',\n",
    " 'BED',\n",
    " 'VaastuCompliant',\n",
    " 'Microwave',\n",
    " 'DiningTable',\n",
    " 'Refrigerator']]\n",
    "y = df_d['Price']"
   ]
  },
  {
   "cell_type": "code",
   "execution_count": 130,
   "metadata": {},
   "outputs": [
    {
     "data": {
      "text/html": [
       "<table class=\"simpletable\">\n",
       "<caption>OLS Regression Results</caption>\n",
       "<tr>\n",
       "  <th>Dep. Variable:</th>          <td>Price</td>      <th>  R-squared:         </th> <td>   0.722</td>\n",
       "</tr>\n",
       "<tr>\n",
       "  <th>Model:</th>                   <td>OLS</td>       <th>  Adj. R-squared:    </th> <td>   0.719</td>\n",
       "</tr>\n",
       "<tr>\n",
       "  <th>Method:</th>             <td>Least Squares</td>  <th>  F-statistic:       </th> <td>   234.1</td>\n",
       "</tr>\n",
       "<tr>\n",
       "  <th>Date:</th>             <td>Thu, 09 Sep 2021</td> <th>  Prob (F-statistic):</th>  <td>  0.00</td> \n",
       "</tr>\n",
       "<tr>\n",
       "  <th>Time:</th>                 <td>18:34:59</td>     <th>  Log-Likelihood:    </th> <td> -1557.9</td>\n",
       "</tr>\n",
       "<tr>\n",
       "  <th>No. Observations:</th>      <td>  2002</td>      <th>  AIC:               </th> <td>   3162.</td>\n",
       "</tr>\n",
       "<tr>\n",
       "  <th>Df Residuals:</th>          <td>  1979</td>      <th>  BIC:               </th> <td>   3291.</td>\n",
       "</tr>\n",
       "<tr>\n",
       "  <th>Df Model:</th>              <td>    22</td>      <th>                     </th>     <td> </td>   \n",
       "</tr>\n",
       "<tr>\n",
       "  <th>Covariance Type:</th>      <td>nonrobust</td>    <th>                     </th>     <td> </td>   \n",
       "</tr>\n",
       "</table>\n",
       "<table class=\"simpletable\">\n",
       "<tr>\n",
       "           <td></td>              <th>coef</th>     <th>std err</th>      <th>t</th>      <th>P>|t|</th>  <th>[0.025</th>    <th>0.975]</th>  \n",
       "</tr>\n",
       "<tr>\n",
       "  <th>const</th>               <td>   -0.0240</td> <td>    0.033</td> <td>   -0.736</td> <td> 0.462</td> <td>   -0.088</td> <td>    0.040</td>\n",
       "</tr>\n",
       "<tr>\n",
       "  <th>Area</th>                <td>    0.7542</td> <td>    0.016</td> <td>   48.055</td> <td> 0.000</td> <td>    0.723</td> <td>    0.785</td>\n",
       "</tr>\n",
       "<tr>\n",
       "  <th>Resale</th>              <td>    0.1307</td> <td>    0.033</td> <td>    3.921</td> <td> 0.000</td> <td>    0.065</td> <td>    0.196</td>\n",
       "</tr>\n",
       "<tr>\n",
       "  <th>JoggingTrack</th>        <td>    0.0748</td> <td>    0.127</td> <td>    0.589</td> <td> 0.556</td> <td>   -0.174</td> <td>    0.324</td>\n",
       "</tr>\n",
       "<tr>\n",
       "  <th>RainWaterHarvesting</th> <td>    0.4695</td> <td>    0.065</td> <td>    7.254</td> <td> 0.000</td> <td>    0.343</td> <td>    0.596</td>\n",
       "</tr>\n",
       "<tr>\n",
       "  <th>IndoorGames</th>         <td>   -0.0291</td> <td>    0.156</td> <td>   -0.186</td> <td> 0.852</td> <td>   -0.336</td> <td>    0.277</td>\n",
       "</tr>\n",
       "<tr>\n",
       "  <th>Intercom</th>            <td>   -0.0832</td> <td>    0.030</td> <td>   -2.798</td> <td> 0.005</td> <td>   -0.142</td> <td>   -0.025</td>\n",
       "</tr>\n",
       "<tr>\n",
       "  <th>School</th>              <td>    1.3138</td> <td>    0.422</td> <td>    3.117</td> <td> 0.002</td> <td>    0.487</td> <td>    2.140</td>\n",
       "</tr>\n",
       "<tr>\n",
       "  <th>24X7Security</th>        <td>   -0.4493</td> <td>    0.092</td> <td>   -4.880</td> <td> 0.000</td> <td>   -0.630</td> <td>   -0.269</td>\n",
       "</tr>\n",
       "<tr>\n",
       "  <th>CarParking</th>          <td>    0.0877</td> <td>    0.036</td> <td>    2.468</td> <td> 0.014</td> <td>    0.018</td> <td>    0.157</td>\n",
       "</tr>\n",
       "<tr>\n",
       "  <th>StaffQuarter</th>        <td>   -0.1984</td> <td>    0.130</td> <td>   -1.529</td> <td> 0.126</td> <td>   -0.453</td> <td>    0.056</td>\n",
       "</tr>\n",
       "<tr>\n",
       "  <th>Cafeteria</th>           <td>   -0.0157</td> <td>    0.141</td> <td>   -0.111</td> <td> 0.911</td> <td>   -0.292</td> <td>    0.261</td>\n",
       "</tr>\n",
       "<tr>\n",
       "  <th>MultipurposeRoom</th>    <td>   -0.2129</td> <td>    0.108</td> <td>   -1.969</td> <td> 0.049</td> <td>   -0.425</td> <td>   -0.001</td>\n",
       "</tr>\n",
       "<tr>\n",
       "  <th>Hospital</th>            <td>   -1.1477</td> <td>    0.443</td> <td>   -2.593</td> <td> 0.010</td> <td>   -2.016</td> <td>   -0.280</td>\n",
       "</tr>\n",
       "<tr>\n",
       "  <th>WashingMachine</th>      <td>   -0.2899</td> <td>    0.188</td> <td>   -1.539</td> <td> 0.124</td> <td>   -0.659</td> <td>    0.080</td>\n",
       "</tr>\n",
       "<tr>\n",
       "  <th>Gasconnection</th>       <td>    0.1032</td> <td>    0.034</td> <td>    3.011</td> <td> 0.003</td> <td>    0.036</td> <td>    0.170</td>\n",
       "</tr>\n",
       "<tr>\n",
       "  <th>AC</th>                  <td>    0.4484</td> <td>    0.062</td> <td>    7.287</td> <td> 0.000</td> <td>    0.328</td> <td>    0.569</td>\n",
       "</tr>\n",
       "<tr>\n",
       "  <th>LiftAvailable</th>       <td>   -0.1941</td> <td>    0.027</td> <td>   -7.100</td> <td> 0.000</td> <td>   -0.248</td> <td>   -0.141</td>\n",
       "</tr>\n",
       "<tr>\n",
       "  <th>BED</th>                 <td>   -0.4807</td> <td>    0.095</td> <td>   -5.062</td> <td> 0.000</td> <td>   -0.667</td> <td>   -0.295</td>\n",
       "</tr>\n",
       "<tr>\n",
       "  <th>VaastuCompliant</th>     <td>   -0.1033</td> <td>    0.039</td> <td>   -2.656</td> <td> 0.008</td> <td>   -0.180</td> <td>   -0.027</td>\n",
       "</tr>\n",
       "<tr>\n",
       "  <th>Microwave</th>           <td>    0.4448</td> <td>    0.096</td> <td>    4.650</td> <td> 0.000</td> <td>    0.257</td> <td>    0.632</td>\n",
       "</tr>\n",
       "<tr>\n",
       "  <th>DiningTable</th>         <td>   -0.8778</td> <td>    0.194</td> <td>   -4.521</td> <td> 0.000</td> <td>   -1.259</td> <td>   -0.497</td>\n",
       "</tr>\n",
       "<tr>\n",
       "  <th>Refrigerator</th>        <td>    1.0341</td> <td>    0.152</td> <td>    6.818</td> <td> 0.000</td> <td>    0.737</td> <td>    1.332</td>\n",
       "</tr>\n",
       "</table>\n",
       "<table class=\"simpletable\">\n",
       "<tr>\n",
       "  <th>Omnibus:</th>       <td>2839.895</td> <th>  Durbin-Watson:     </th>  <td>   1.768</td>  \n",
       "</tr>\n",
       "<tr>\n",
       "  <th>Prob(Omnibus):</th>  <td> 0.000</td>  <th>  Jarque-Bera (JB):  </th> <td>1295462.229</td>\n",
       "</tr>\n",
       "<tr>\n",
       "  <th>Skew:</th>           <td> 7.967</td>  <th>  Prob(JB):          </th>  <td>    0.00</td>  \n",
       "</tr>\n",
       "<tr>\n",
       "  <th>Kurtosis:</th>       <td>126.597</td> <th>  Cond. No.          </th>  <td>    84.1</td>  \n",
       "</tr>\n",
       "</table><br/><br/>Notes:<br/>[1] Standard Errors assume that the covariance matrix of the errors is correctly specified."
      ],
      "text/plain": [
       "<class 'statsmodels.iolib.summary.Summary'>\n",
       "\"\"\"\n",
       "                            OLS Regression Results                            \n",
       "==============================================================================\n",
       "Dep. Variable:                  Price   R-squared:                       0.722\n",
       "Model:                            OLS   Adj. R-squared:                  0.719\n",
       "Method:                 Least Squares   F-statistic:                     234.1\n",
       "Date:                Thu, 09 Sep 2021   Prob (F-statistic):               0.00\n",
       "Time:                        18:34:59   Log-Likelihood:                -1557.9\n",
       "No. Observations:                2002   AIC:                             3162.\n",
       "Df Residuals:                    1979   BIC:                             3291.\n",
       "Df Model:                          22                                         \n",
       "Covariance Type:            nonrobust                                         \n",
       "=======================================================================================\n",
       "                          coef    std err          t      P>|t|      [0.025      0.975]\n",
       "---------------------------------------------------------------------------------------\n",
       "const                  -0.0240      0.033     -0.736      0.462      -0.088       0.040\n",
       "Area                    0.7542      0.016     48.055      0.000       0.723       0.785\n",
       "Resale                  0.1307      0.033      3.921      0.000       0.065       0.196\n",
       "JoggingTrack            0.0748      0.127      0.589      0.556      -0.174       0.324\n",
       "RainWaterHarvesting     0.4695      0.065      7.254      0.000       0.343       0.596\n",
       "IndoorGames            -0.0291      0.156     -0.186      0.852      -0.336       0.277\n",
       "Intercom               -0.0832      0.030     -2.798      0.005      -0.142      -0.025\n",
       "School                  1.3138      0.422      3.117      0.002       0.487       2.140\n",
       "24X7Security           -0.4493      0.092     -4.880      0.000      -0.630      -0.269\n",
       "CarParking              0.0877      0.036      2.468      0.014       0.018       0.157\n",
       "StaffQuarter           -0.1984      0.130     -1.529      0.126      -0.453       0.056\n",
       "Cafeteria              -0.0157      0.141     -0.111      0.911      -0.292       0.261\n",
       "MultipurposeRoom       -0.2129      0.108     -1.969      0.049      -0.425      -0.001\n",
       "Hospital               -1.1477      0.443     -2.593      0.010      -2.016      -0.280\n",
       "WashingMachine         -0.2899      0.188     -1.539      0.124      -0.659       0.080\n",
       "Gasconnection           0.1032      0.034      3.011      0.003       0.036       0.170\n",
       "AC                      0.4484      0.062      7.287      0.000       0.328       0.569\n",
       "LiftAvailable          -0.1941      0.027     -7.100      0.000      -0.248      -0.141\n",
       "BED                    -0.4807      0.095     -5.062      0.000      -0.667      -0.295\n",
       "VaastuCompliant        -0.1033      0.039     -2.656      0.008      -0.180      -0.027\n",
       "Microwave               0.4448      0.096      4.650      0.000       0.257       0.632\n",
       "DiningTable            -0.8778      0.194     -4.521      0.000      -1.259      -0.497\n",
       "Refrigerator            1.0341      0.152      6.818      0.000       0.737       1.332\n",
       "==============================================================================\n",
       "Omnibus:                     2839.895   Durbin-Watson:                   1.768\n",
       "Prob(Omnibus):                  0.000   Jarque-Bera (JB):          1295462.229\n",
       "Skew:                           7.967   Prob(JB):                         0.00\n",
       "Kurtosis:                     126.597   Cond. No.                         84.1\n",
       "==============================================================================\n",
       "\n",
       "Notes:\n",
       "[1] Standard Errors assume that the covariance matrix of the errors is correctly specified.\n",
       "\"\"\""
      ]
     },
     "execution_count": 130,
     "metadata": {},
     "output_type": "execute_result"
    }
   ],
   "source": [
    "xc = sm.add_constant(x)\n",
    "ols_c = sm.OLS(y,xc).fit()\n",
    "ols_c.summary()"
   ]
  },
  {
   "cell_type": "code",
   "execution_count": 131,
   "metadata": {},
   "outputs": [
    {
     "name": "stdout",
     "output_type": "stream",
     "text": [
      "The Accuracy of the above DELHI DATASET using OLS method iS: 0.7223947647980735\n"
     ]
    }
   ],
   "source": [
    "print('The Accuracy of the above DELHI DATASET using OLS method iS:',ols_c.rsquared)"
   ]
  },
  {
   "cell_type": "markdown",
   "metadata": {},
   "source": [
    "# FINAL MODEL BUILDING"
   ]
  },
  {
   "cell_type": "markdown",
   "metadata": {},
   "source": [
    "# Hyperparameter tuning"
   ]
  },
  {
   "cell_type": "code",
   "execution_count": 132,
   "metadata": {},
   "outputs": [],
   "source": [
    "from sklearn.model_selection import GridSearchCV\n",
    "\n",
    "from sklearn.linear_model import Lasso,Ridge,ElasticNet\n",
    "from sklearn.metrics import r2_score,mean_squared_error"
   ]
  },
  {
   "cell_type": "code",
   "execution_count": 133,
   "metadata": {},
   "outputs": [],
   "source": [
    "from sklearn.model_selection import GridSearchCV"
   ]
  },
  {
   "cell_type": "code",
   "execution_count": 134,
   "metadata": {},
   "outputs": [],
   "source": [
    "def build_model(instance):\n",
    "    model=instance.fit(xtrain,y_train)\n",
    "    print(\"Train R2:\",model.score(xtrain,y_train))\n",
    "    print(\"Test R2:\",model.score(xtest,y_test))\n",
    "    print(\"Train RMSE:\",np.sqrt(mean_squared_error(y_train,model.predict(xtrain))))\n",
    "    print(\"Test RMSE:\",np.sqrt(mean_squared_error(y_test,model.predict(xtest))))"
   ]
  },
  {
   "cell_type": "markdown",
   "metadata": {},
   "source": [
    "### LASSO"
   ]
  },
  {
   "cell_type": "code",
   "execution_count": 135,
   "metadata": {},
   "outputs": [
    {
     "data": {
      "text/plain": [
       "GridSearchCV(cv=5, estimator=Lasso(normalize=True),\n",
       "             param_grid={'alpha': [0.01, 0.02, 0.1, 0.96, 0.99, 0.001]},\n",
       "             scoring='r2')"
      ]
     },
     "execution_count": 135,
     "metadata": {},
     "output_type": "execute_result"
    }
   ],
   "source": [
    "param = {'alpha':[0.01,0.02,0.1,0.96,0.99,0.001]}\n",
    "l = Lasso(normalize=True)\n",
    "\n",
    "lassocv = GridSearchCV(l,param,cv=5,scoring='r2')\n",
    "lassocv.fit(x_train,y_train)"
   ]
  },
  {
   "cell_type": "code",
   "execution_count": 136,
   "metadata": {},
   "outputs": [
    {
     "data": {
      "text/plain": [
       "{'alpha': 0.001}"
      ]
     },
     "execution_count": 136,
     "metadata": {},
     "output_type": "execute_result"
    }
   ],
   "source": [
    "lassocv.best_params_"
   ]
  },
  {
   "cell_type": "code",
   "execution_count": 137,
   "metadata": {},
   "outputs": [],
   "source": [
    "xtrain=x_train\n",
    "ytrain=y_train\n",
    "xtest=x_test\n",
    "ytest=y_test"
   ]
  },
  {
   "cell_type": "code",
   "execution_count": 138,
   "metadata": {},
   "outputs": [
    {
     "name": "stdout",
     "output_type": "stream",
     "text": [
      "Train R2: 0.6878482271928981\n",
      "Test R2: 0.7068281650278037\n",
      "Train RMSE: 0.5790676747703121\n",
      "Test RMSE: 0.49238060150866736\n"
     ]
    }
   ],
   "source": [
    "lasso001 = Lasso(alpha=0.001,normalize=True)\n",
    "\n",
    "build_model(lasso001)"
   ]
  },
  {
   "cell_type": "markdown",
   "metadata": {},
   "source": [
    "# ENET"
   ]
  },
  {
   "cell_type": "code",
   "execution_count": 139,
   "metadata": {},
   "outputs": [
    {
     "data": {
      "text/plain": [
       "{'alpha': 5e-05, 'l1_ratio': 0.3}"
      ]
     },
     "execution_count": 139,
     "metadata": {},
     "output_type": "execute_result"
    }
   ],
   "source": [
    "from sklearn.model_selection import GridSearchCV\n",
    "\n",
    "param = {'alpha':[0.01,0.02,0.001,0.0005,0.0001,0.00005],\n",
    "        'l1_ratio':[0.3,0.4,0.6,0.8,0.9]}\n",
    "enet = ElasticNet(normalize=True)\n",
    "\n",
    "enetcv = GridSearchCV(enet,param,cv=5,scoring='r2')\n",
    "enetcv.fit(xtrain,ytrain)\n",
    "enetcv.best_params_"
   ]
  },
  {
   "cell_type": "code",
   "execution_count": 140,
   "metadata": {},
   "outputs": [],
   "source": [
    "enetmod = ElasticNet(alpha= 5e-05,l1_ratio= 0.3)"
   ]
  },
  {
   "cell_type": "code",
   "execution_count": 141,
   "metadata": {},
   "outputs": [
    {
     "name": "stdout",
     "output_type": "stream",
     "text": [
      "Train R2: 0.728879713721305\n",
      "Test R2: 0.699475886640454\n",
      "Train RMSE: 0.5396689435682667\n",
      "Test RMSE: 0.4985164275789127\n"
     ]
    }
   ],
   "source": [
    "build_model(enetmod)"
   ]
  },
  {
   "cell_type": "markdown",
   "metadata": {},
   "source": [
    "### RIDGE"
   ]
  },
  {
   "cell_type": "code",
   "execution_count": 142,
   "metadata": {},
   "outputs": [],
   "source": [
    "rd = Ridge()"
   ]
  },
  {
   "cell_type": "code",
   "execution_count": 143,
   "metadata": {},
   "outputs": [],
   "source": [
    "param = {'alpha':[0.01,0.02,0.1,0.001]}"
   ]
  },
  {
   "cell_type": "code",
   "execution_count": 144,
   "metadata": {},
   "outputs": [
    {
     "data": {
      "text/plain": [
       "{'alpha': 0.099}"
      ]
     },
     "execution_count": 144,
     "metadata": {},
     "output_type": "execute_result"
    }
   ],
   "source": [
    "from sklearn.model_selection import GridSearchCV\n",
    "\n",
    "param = {'alpha':[0.01,0.02,0.099,0.085,0.001,0.0005,0.0001,0.00005]}\n",
    "         \n",
    "         \n",
    "rdmod = GridSearchCV(rd,param,cv=5,scoring='r2')\n",
    "rdmod.fit(xtrain,ytrain)\n",
    "rdmod.best_params_"
   ]
  },
  {
   "cell_type": "code",
   "execution_count": 145,
   "metadata": {},
   "outputs": [],
   "source": [
    "rdmodel = Ridge(alpha= 0.099)"
   ]
  },
  {
   "cell_type": "code",
   "execution_count": 146,
   "metadata": {
    "scrolled": true
   },
   "outputs": [
    {
     "name": "stdout",
     "output_type": "stream",
     "text": [
      "Train R2: 0.7288664380386505\n",
      "Test R2: 0.6997208755808311\n",
      "Train RMSE: 0.5396821561279571\n",
      "Test RMSE: 0.4983131894583352\n"
     ]
    }
   ],
   "source": [
    "build_model(rdmodel)"
   ]
  }
 ],
 "metadata": {
  "kernelspec": {
   "display_name": "Python 3 (ipykernel)",
   "language": "python",
   "name": "python3"
  },
  "language_info": {
   "codemirror_mode": {
    "name": "ipython",
    "version": 3
   },
   "file_extension": ".py",
   "mimetype": "text/x-python",
   "name": "python",
   "nbconvert_exporter": "python",
   "pygments_lexer": "ipython3",
   "version": "3.9.12"
  }
 },
 "nbformat": 4,
 "nbformat_minor": 4
}
